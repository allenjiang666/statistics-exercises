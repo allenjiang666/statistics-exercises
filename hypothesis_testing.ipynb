{
 "cells": [
  {
   "cell_type": "markdown",
   "metadata": {},
   "source": [
    "# Hypothesis Testing Exercises\n",
    "For each of the following questions, formulate a null and alternative hypothesis (be as specific as you can be), then give an example of what a true positive, true negative, type I and type II errors would look like. Note that some of the questions are intentionally phrased in a vague way. It is your job to reword these as more precise questions that could be tested.\n"
   ]
  },
  {
   "cell_type": "markdown",
   "metadata": {},
   "source": [
    "## Exercise 1\n",
    "> **Has the network latency gone up since we switched internet service providers?**"
   ]
  },
  {
   "cell_type": "markdown",
   "metadata": {},
   "source": [
    "**Data**: Average latency before and after we switch\n",
    "- $H_0$: There is no difference in latency between both providers\n",
    "- $H_a$: The latency gets shorter after we switch"
   ]
  },
  {
   "cell_type": "markdown",
   "metadata": {},
   "source": [
    "- **True Positive**\n",
    "    - small p-value --> the probability of $H_0$ is true is low. \n",
    "    - reject $H_0$\n",
    "    - before switching the average latency is 230ms\n",
    "    - after switching the average latency is 80ms\n",
    "\n",
    "- **False Positive**\n",
    "    - small p-value\n",
    "    - reject $H-0$\n",
    "    - before switching the average latency is 230ms\n",
    "    - after switching the average latency is 80ms\n",
    "    - We tested latency at different time period, one is at rush hour, the other one is tested at midnight\n",
    "- **True Negative**\n",
    "    - higher p -value\n",
    "    - fail to reject $H_0$\n",
    "    - before switching the average latency is 230ms\n",
    "    - after switching the average latency is 200ms\n",
    "- **False Negative**\n",
    "    - higher p -value\n",
    "    - fail to reject $H_0$\n",
    "    - before switching the average latency is 230ms\n",
    "    - after switching the average latency is 200ms\n",
    "    - when testing there are different number of other applications running at the same time"
   ]
  },
  {
   "cell_type": "markdown",
   "metadata": {},
   "source": [
    "## Exercise 2\n",
    "> **Is the website redesign any good?**"
   ]
  },
  {
   "cell_type": "markdown",
   "metadata": {},
   "source": [
    "**Data**: traffic of the website\n",
    "- $H_0$: there is no difference after the website was redesigned\n",
    "- $H_a$: there is a  increase in traffic after the website was redesigned "
   ]
  },
  {
   "cell_type": "markdown",
   "metadata": {},
   "source": [
    "- **True Positive**\n",
    "    - low p_ value\n",
    "    - reject $H_0$\n",
    "    - before redesign, the traffic was 4000 visitors per day\n",
    "    - after redesign, the traffic is 6000 visitors per day\n",
    "- **False Positive**\n",
    "    - low p_ value\n",
    "    - reject $H_0$\n",
    "    - before redesign, the traffic was 4000 visitors per day\n",
    "    - after redesign, the traffic is 6000 visitors per day\n",
    "    - they somehow increase the quality of the context in the website\n",
    "- **True Negative**\n",
    "    - high p-value\n",
    "    - fail to reject $H_0$\n",
    "    - before redesign, the traffic was 4000 visitors per day\n",
    "    - after redesign, the traffic is 4100 visitors per day\n",
    "- **False Negative**\n",
    "    - high p-value\n",
    "    - fail to reject $H_0$\n",
    "    - before redesign, the traffic was 4000 visitors per day\n",
    "    - after redesign, the traffic is 4100 visitors per day\n",
    "    - they add more ads in the website."
   ]
  },
  {
   "cell_type": "markdown",
   "metadata": {},
   "source": [
    "## Exercise 3\n",
    "> Is our television ad driving more sales?"
   ]
  },
  {
   "cell_type": "markdown",
   "metadata": {},
   "source": [
    "**data**: number of sales\n",
    "- $H_0$: the number of sales remain the same after the ad is the air\n",
    "- $H_a$: the number of sales increase after the ad is the air"
   ]
  },
  {
   "cell_type": "markdown",
   "metadata": {},
   "source": [
    "- **True Positive**\n",
    "    - low p_ value\n",
    "    - reject $H_0$\n",
    "    - before the ad is in the air, the sales was 300 per month\n",
    "    - after the ad is in the air, the sales is 500 per month\n",
    "- **False Positive**\n",
    "    - low p_ value\n",
    "    - reject $H_0$\n",
    "    - before the ad is in the air, the sales was 300 per month\n",
    "    - after the ad is in the air, the sales is 500 per month\n",
    "    - the manfacture update some feature of the data\n",
    "- **True Negative**\n",
    "    - high p-value\n",
    "    - fail to reject $H_0$\n",
    "    - before the ad is in the air, the sales was 300 per month\n",
    "    - after the ad is in the air, the sales is 310 per month\n",
    "- **False Negative**\n",
    "    - high p-value\n",
    "    - fail to reject $H_0$\n",
    "    - before the ad is in the air, the sales was 300 per month\n",
    "    - after the ad is in the air, the sales is 310 per month\n",
    "    - some salse person quit their jobs."
   ]
  },
  {
   "cell_type": "markdown",
   "metadata": {},
   "source": [
    "## Mini Exercise 1 \n",
    "> Are the average grades in web development vs data science classes different? "
   ]
  },
  {
   "cell_type": "markdown",
   "metadata": {},
   "source": [
    "**Data**: average grades\n",
    "- $H_0$: there is no difference between two classes\n",
    "- $H_a$: data science class has higher average grades than web development class."
   ]
  },
  {
   "cell_type": "markdown",
   "metadata": {},
   "source": [
    "- **True Positive**\n",
    "    - low p_ value\n",
    "    - reject $H_0$\n",
    "    - the average grade for data science is 90\n",
    "    - the average grade for data science is 83\n",
    "- **False Positive**\n",
    "    - low p_ value\n",
    "    - reject $H_0$\n",
    "    - the average grade for data science is 90\n",
    "    - the average grade for data science is 83\n",
    "    - the there are more students in data science has a college degree\n",
    "- **True Negative**\n",
    "    - high p-value\n",
    "    - fail to reject $H_0$\n",
    "    - the average grade for data science is 95\n",
    "    - the average grade for data science is 83\n",
    "- **False Negative**\n",
    "    - high p-value\n",
    "    - fail to reject $H_0$\n",
    "    - the average grade for data science is 95\n",
    "    - the average grade for data science is 83\n",
    "    - some of the students from data science skipped class for several times"
   ]
  },
  {
   "cell_type": "markdown",
   "metadata": {},
   "source": [
    "## Mini Exercise 2\n",
    "> Is there a relationship between how early a student shows up to class and their grade? "
   ]
  },
  {
   "cell_type": "markdown",
   "metadata": {},
   "source": [
    "**Data**: average grades and time they showup before class begin\n",
    "- $H_0$: there is no difference between students showup early and student show up late\n",
    "- $H_a$: students showup earler has higher grades than students showup late"
   ]
  },
  {
   "cell_type": "markdown",
   "metadata": {},
   "source": [
    "- **True Positive**\n",
    "    - low p_ value\n",
    "    - reject $H_0$\n",
    "    - the average grade for student showup 15 mins earlier is 90\n",
    "    - the average grade for student showup not 15 mins earlier is 82\n",
    "- **False Positive**\n",
    "    - low p_ value\n",
    "    - reject $H_0$\n",
    "    - the average grade for student showup 15 mins earlier is 90\n",
    "    - the average grade for student showup not 15 mins earlier is 82\n",
    "    - some students showup early study extra hours after school.\n",
    "- **True Negative**\n",
    "    - high p-value\n",
    "    - fail to reject $H_0$\n",
    "    - the average grade for student showup 15 mins earlier is 90\n",
    "    - the average grade for student showup not 15 mins earlier is 89\n",
    "- **False Negative**\n",
    "    - high p-value\n",
    "    - fail to reject $H_0$\n",
    "    - the average grade for student showup 15 mins earlier is 90\n",
    "    - the average grade for student showup not 15 mins earlier is 89\n",
    "    - some students showup late study extra hours after school"
   ]
  },
  {
   "cell_type": "markdown",
   "metadata": {},
   "source": [
    "## Mini Exercise 3\n",
    "> Are web dev or data science students more likely to be coffee drinkers? "
   ]
  },
  {
   "cell_type": "markdown",
   "metadata": {},
   "source": [
    "**Data**: average coffee comsumption between two classes\n",
    "- $H_0$: there is no difference between two classes\n",
    "- $H_a$: data science class drink more coffee than web development class."
   ]
  },
  {
   "cell_type": "markdown",
   "metadata": {},
   "source": [
    "- **True Positive**\n",
    "    - low p_ value\n",
    "    - reject $H_0$\n",
    "    - the average coffee consumption for data science is 2 cups per person\n",
    "    - the average coffee consumption for wed development is 4 cups per person\n",
    "- **False Positive**\n",
    "    - low p_ value\n",
    "    - reject $H_0$\n",
    "    - the average coffee consumption for data science is 2 cups per person\n",
    "    - the average coffee consumption for wed development is 4 cups per person\n",
    "    - the web develpment class is closer to the coffee machine\n",
    "- **True Negative**\n",
    "    - high p-value\n",
    "    - fail to reject $H_0$\n",
    "    - the average coffee consumption for data science is 3 cups per person\n",
    "    - the average coffee consumption for wed development is 3.5 cups per person\n",
    "- **False Negative**\n",
    "    - high p-value\n",
    "    - fail to reject $H_0$\n",
    "    - the average coffee consumption for data science is 3 cups per person\n",
    "    - the average coffee consumption for wed development is 3.5 cups per person\n",
    "    - some student of the web develpment buy coffee from the barkery downstairs"
   ]
  },
  {
   "cell_type": "markdown",
   "metadata": {},
   "source": [
    "# T -test Exercises"
   ]
  },
  {
   "cell_type": "code",
   "execution_count": 5,
   "metadata": {},
   "outputs": [],
   "source": [
    "import pandas as pd \n",
    "import numpy as np\n",
    "from scipy import stats\n",
    "from math import sqrt"
   ]
  },
  {
   "cell_type": "markdown",
   "metadata": {},
   "source": [
    "## Exercise 1 \n",
    "Ace Realty wants to determine whether the average time it takes to sell homes is different for its two offices. A sample of 40 sales from office #1 revealed a mean of 90 days and a standard deviation of 15 days. A sample of 50 sales from office #2 revealed a mean of 100 days and a standard deviation of 20 days. Use a .05 level of significance."
   ]
  },
  {
   "cell_type": "markdown",
   "metadata": {},
   "source": [
    "- $H_0$: There is no difference in average time to sell homes for boths offices\n",
    "- $H_a$: There is a dfference in average time to sell homes for boths offices\n"
   ]
  },
  {
   "cell_type": "code",
   "execution_count": 18,
   "metadata": {},
   "outputs": [],
   "source": [
    "alpha = .05\n",
    "x1 = stats.norm(90, 15).rvs(40)\n",
    "x2 = stats.norm(100, 20).rvs(50)\n",
    "xbar1 = x1.mean()\n",
    "xbar2 = x2.mean()\n",
    "\n",
    "n1 = x1.shape[0]\n",
    "n2 = x2.shape[0]\n",
    "\n",
    "s1 = x1.std()\n",
    "s2 = x2.std()\n",
    "\n",
    "degf = (n1 + n2) - 2 # n - number of categories\n",
    "\n",
    "s_p = sqrt(\n",
    "    ((n1 - 1) * s1**2 + (n2 - 1) * s2**2)\n",
    "    /\n",
    "    (n1 + n2 - 2)\n",
    ")\n",
    "\n",
    "t = (xbar1 - xbar2) / (s_p * sqrt(1 / n1 + 1 / n2))"
   ]
  },
  {
   "cell_type": "code",
   "execution_count": 19,
   "metadata": {},
   "outputs": [
    {
     "data": {
      "text/plain": [
       "-2.9981371440307303"
      ]
     },
     "execution_count": 19,
     "metadata": {},
     "output_type": "execute_result"
    }
   ],
   "source": [
    "t"
   ]
  },
  {
   "cell_type": "code",
   "execution_count": 20,
   "metadata": {},
   "outputs": [
    {
     "data": {
      "text/plain": [
       "1.9964693431010252"
      ]
     },
     "execution_count": 20,
     "metadata": {},
     "output_type": "execute_result"
    }
   ],
   "source": [
    "p = stats.t(degf).sf(t) * 2\n",
    "p"
   ]
  },
  {
   "cell_type": "code",
   "execution_count": 21,
   "metadata": {},
   "outputs": [
    {
     "data": {
      "text/plain": [
       "Ttest_indResult(statistic=-2.96615582146002, pvalue=0.00388153419236683)"
      ]
     },
     "execution_count": 21,
     "metadata": {},
     "output_type": "execute_result"
    }
   ],
   "source": [
    "stats.ttest_ind(x1, x2)"
   ]
  },
  {
   "cell_type": "code",
   "execution_count": 39,
   "metadata": {},
   "outputs": [
    {
     "name": "stdout",
     "output_type": "stream",
     "text": [
      "\n",
      "Because p(0.5709) > alpha(0.05), so We  reject $H_0$, There is a difference for two offices of their \n",
      "average time selling houses.)  \n",
      "\n"
     ]
    }
   ],
   "source": [
    "print(f'''\n",
    "Because p({p:.4f}) > alpha({alpha}), so We  reject $H_0$, There is a difference for two offices of their \n",
    "average time selling houses.)  \n",
    "''')"
   ]
  },
  {
   "cell_type": "markdown",
   "metadata": {},
   "source": [
    "## Exercise 2\n",
    "Load the mpg dataset and use it to answer the following questions:"
   ]
  },
  {
   "cell_type": "code",
   "execution_count": 37,
   "metadata": {},
   "outputs": [
    {
     "data": {
      "text/html": [
       "<div>\n",
       "<style scoped>\n",
       "    .dataframe tbody tr th:only-of-type {\n",
       "        vertical-align: middle;\n",
       "    }\n",
       "\n",
       "    .dataframe tbody tr th {\n",
       "        vertical-align: top;\n",
       "    }\n",
       "\n",
       "    .dataframe thead th {\n",
       "        text-align: right;\n",
       "    }\n",
       "</style>\n",
       "<table border=\"1\" class=\"dataframe\">\n",
       "  <thead>\n",
       "    <tr style=\"text-align: right;\">\n",
       "      <th></th>\n",
       "      <th>manufacturer</th>\n",
       "      <th>model</th>\n",
       "      <th>displ</th>\n",
       "      <th>year</th>\n",
       "      <th>cyl</th>\n",
       "      <th>trans</th>\n",
       "      <th>drv</th>\n",
       "      <th>cty</th>\n",
       "      <th>hwy</th>\n",
       "      <th>fl</th>\n",
       "      <th>class</th>\n",
       "    </tr>\n",
       "  </thead>\n",
       "  <tbody>\n",
       "    <tr>\n",
       "      <td>1</td>\n",
       "      <td>audi</td>\n",
       "      <td>a4</td>\n",
       "      <td>1.8</td>\n",
       "      <td>1999</td>\n",
       "      <td>4</td>\n",
       "      <td>auto(l5)</td>\n",
       "      <td>f</td>\n",
       "      <td>18</td>\n",
       "      <td>29</td>\n",
       "      <td>p</td>\n",
       "      <td>compact</td>\n",
       "    </tr>\n",
       "    <tr>\n",
       "      <td>2</td>\n",
       "      <td>audi</td>\n",
       "      <td>a4</td>\n",
       "      <td>1.8</td>\n",
       "      <td>1999</td>\n",
       "      <td>4</td>\n",
       "      <td>manual(m5)</td>\n",
       "      <td>f</td>\n",
       "      <td>21</td>\n",
       "      <td>29</td>\n",
       "      <td>p</td>\n",
       "      <td>compact</td>\n",
       "    </tr>\n",
       "    <tr>\n",
       "      <td>3</td>\n",
       "      <td>audi</td>\n",
       "      <td>a4</td>\n",
       "      <td>2.0</td>\n",
       "      <td>2008</td>\n",
       "      <td>4</td>\n",
       "      <td>manual(m6)</td>\n",
       "      <td>f</td>\n",
       "      <td>20</td>\n",
       "      <td>31</td>\n",
       "      <td>p</td>\n",
       "      <td>compact</td>\n",
       "    </tr>\n",
       "    <tr>\n",
       "      <td>4</td>\n",
       "      <td>audi</td>\n",
       "      <td>a4</td>\n",
       "      <td>2.0</td>\n",
       "      <td>2008</td>\n",
       "      <td>4</td>\n",
       "      <td>auto(av)</td>\n",
       "      <td>f</td>\n",
       "      <td>21</td>\n",
       "      <td>30</td>\n",
       "      <td>p</td>\n",
       "      <td>compact</td>\n",
       "    </tr>\n",
       "    <tr>\n",
       "      <td>5</td>\n",
       "      <td>audi</td>\n",
       "      <td>a4</td>\n",
       "      <td>2.8</td>\n",
       "      <td>1999</td>\n",
       "      <td>6</td>\n",
       "      <td>auto(l5)</td>\n",
       "      <td>f</td>\n",
       "      <td>16</td>\n",
       "      <td>26</td>\n",
       "      <td>p</td>\n",
       "      <td>compact</td>\n",
       "    </tr>\n",
       "  </tbody>\n",
       "</table>\n",
       "</div>"
      ],
      "text/plain": [
       "  manufacturer model  displ  year  cyl       trans drv  cty  hwy fl    class\n",
       "1         audi    a4    1.8  1999    4    auto(l5)   f   18   29  p  compact\n",
       "2         audi    a4    1.8  1999    4  manual(m5)   f   21   29  p  compact\n",
       "3         audi    a4    2.0  2008    4  manual(m6)   f   20   31  p  compact\n",
       "4         audi    a4    2.0  2008    4    auto(av)   f   21   30  p  compact\n",
       "5         audi    a4    2.8  1999    6    auto(l5)   f   16   26  p  compact"
      ]
     },
     "execution_count": 37,
     "metadata": {},
     "output_type": "execute_result"
    }
   ],
   "source": [
    "from pydataset import data\n",
    "mpg = data('mpg')\n",
    "mpg.head()"
   ]
  },
  {
   "cell_type": "markdown",
   "metadata": {},
   "source": [
    "1. Is there a difference in fuel-efficiency in cars from 2008 vs 1999?"
   ]
  },
  {
   "cell_type": "markdown",
   "metadata": {},
   "source": [
    "- $H_0$: There is no difference in fuel-efficiency in cars from 2008 vs 1999"
   ]
  },
  {
   "cell_type": "code",
   "execution_count": 35,
   "metadata": {
    "scrolled": false
   },
   "outputs": [],
   "source": [
    "x1 = mpg[mpg.year == 1999].cty\n",
    "x2 = mpg[mpg.year == 2008].cty\n",
    "stats.ttest_ind(x1, x2)\n",
    "s_stat, p = stats.ttest_ind(x1, x2)"
   ]
  },
  {
   "cell_type": "code",
   "execution_count": 40,
   "metadata": {},
   "outputs": [
    {
     "name": "stdout",
     "output_type": "stream",
     "text": [
      "\n",
      "Because p(0.5709) > alpha(0.05), so We reject $H_0$, There is a \n",
      "difference in fuel-efficiency in cars from 2008 vs 1999.)  \n",
      "\n"
     ]
    }
   ],
   "source": [
    "print(f'''\n",
    "Because p({p:.4f}) > alpha({alpha}), so We reject $H_0$, There is a \n",
    "difference in fuel-efficiency in cars from 2008 vs 1999.)  \n",
    "''')"
   ]
  },
  {
   "cell_type": "markdown",
   "metadata": {},
   "source": [
    "2. Are compact cars more fuel-efficient than the average car?"
   ]
  },
  {
   "cell_type": "markdown",
   "metadata": {},
   "source": [
    "- $H_0$: There is no difference in fuel-efficiency from compact cars and all the cars"
   ]
  },
  {
   "cell_type": "code",
   "execution_count": 43,
   "metadata": {},
   "outputs": [
    {
     "name": "stdout",
     "output_type": "stream",
     "text": [
      "t = 6.62\n",
      "p = 3.4e-08\n"
     ]
    }
   ],
   "source": [
    "x = mpg[mpg['class'] == 'compact'].cty\n",
    "mu = mpg.cty.mean()\n",
    "t_stat, p = stats.ttest_1samp(x, mu)\n",
    "\n",
    "print(f't = {t_stat:.3}')\n",
    "print(f'p = {p:.3}')"
   ]
  },
  {
   "cell_type": "code",
   "execution_count": 47,
   "metadata": {},
   "outputs": [
    {
     "name": "stdout",
     "output_type": "stream",
     "text": [
      "\n",
      "Because p(0.00000003) < alpha(0.05), so We reject $H_0$, There is no\n",
      "difference in fuel-efficiency in cars from 2008 vs 1999.)  \n",
      "\n"
     ]
    }
   ],
   "source": [
    "print(f'''\n",
    "Because p({p:.8f}) < alpha({alpha}), so We reject $H_0$, There is no\n",
    "difference in fuel-efficiency in cars from 2008 vs 1999.)  \n",
    "''')"
   ]
  },
  {
   "cell_type": "markdown",
   "metadata": {},
   "source": [
    "3. Do manual cars get better gas mileage than automatic cars?"
   ]
  },
  {
   "cell_type": "markdown",
   "metadata": {},
   "source": [
    "- $H_0$: There is no difference in fuel-efficiency in cars with auto transmission and manual transmission"
   ]
  },
  {
   "cell_type": "code",
   "execution_count": 53,
   "metadata": {
    "scrolled": false
   },
   "outputs": [
    {
     "name": "stdout",
     "output_type": "stream",
     "text": [
      "t = 6.62\n",
      "p = 3.4e-08\n"
     ]
    }
   ],
   "source": [
    "x1 = mpg[mpg.trans.str.contains('auto')].cty\n",
    "x2 = mpg[mpg.trans.str.contains('manual')].cty\n",
    "t_stat, p = stats.ttest_1samp(x, mu)\n",
    "\n",
    "print(f't = {t_stat:.3}')\n",
    "print(f'p = {p:.3}')"
   ]
  },
  {
   "cell_type": "code",
   "execution_count": 54,
   "metadata": {},
   "outputs": [
    {
     "name": "stdout",
     "output_type": "stream",
     "text": [
      "\n",
      "Because p(0.00000003) < alpha(0.05), so We reject $H_0$, There is a huge \n",
      "difference in fuel-efficiency in cars from 2008 vs 1999.)  \n",
      "\n"
     ]
    }
   ],
   "source": [
    "print(f'''\n",
    "Because p({p:.8f}) < alpha({alpha}), so We reject $H_0$, There is a huge \n",
    "difference in fuel-efficiency in cars from 2008 vs 1999.)  \n",
    "''')"
   ]
  },
  {
   "cell_type": "code",
   "execution_count": null,
   "metadata": {},
   "outputs": [],
   "source": []
  }
 ],
 "metadata": {
  "kernelspec": {
   "display_name": "Python 3",
   "language": "python",
   "name": "python3"
  },
  "language_info": {
   "codemirror_mode": {
    "name": "ipython",
    "version": 3
   },
   "file_extension": ".py",
   "mimetype": "text/x-python",
   "name": "python",
   "nbconvert_exporter": "python",
   "pygments_lexer": "ipython3",
   "version": "3.7.4"
  }
 },
 "nbformat": 4,
 "nbformat_minor": 2
}
