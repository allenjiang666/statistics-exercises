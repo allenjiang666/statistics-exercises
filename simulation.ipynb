{
 "cells": [
  {
   "cell_type": "code",
   "execution_count": 2,
   "metadata": {},
   "outputs": [],
   "source": [
    "import numpy as np\n",
    "import pandas as pd\n"
   ]
  },
  {
   "cell_type": "code",
   "execution_count": 2,
   "metadata": {
    "scrolled": false
   },
   "outputs": [
    {
     "data": {
      "text/plain": [
       "0.168"
      ]
     },
     "execution_count": 2,
     "metadata": {},
     "output_type": "execute_result"
    }
   ],
   "source": [
    "#1. How likely is it that you roll doubles when rolling two dice?\n",
    "def is_double(two_rolls):\n",
    "    return two_rolls[0] == two_rolls[1]\n",
    "\n",
    "assert is_double([2, 3]) == False\n",
    "\n",
    "flips = np.random.choice(range(1, 7), size=(10_000, 2))\n",
    "flips = pd.DataFrame(flips)\n",
    "flips.apply(is_double, axis = 1).mean()"
   ]
  },
  {
   "cell_type": "code",
   "execution_count": 3,
   "metadata": {},
   "outputs": [
    {
     "data": {
      "text/plain": [
       "0.217"
      ]
     },
     "execution_count": 3,
     "metadata": {},
     "output_type": "execute_result"
    }
   ],
   "source": [
    "#2. If you flip 8 coins, what is the probability of getting exactly 3 heads? \n",
    "    \n",
    "flips = np.random.choice([0, 1], size = (10_000, 8))\n",
    "flips = pd.DataFrame(flips)\n",
    "(flips.sum(axis = 1) == 3).mean()"
   ]
  },
  {
   "cell_type": "code",
   "execution_count": 4,
   "metadata": {},
   "outputs": [
    {
     "data": {
      "text/plain": [
       "0.6337"
      ]
     },
     "execution_count": 4,
     "metadata": {},
     "output_type": "execute_result"
    }
   ],
   "source": [
    "#What is the probability of getting more than 3 heads?\n",
    "(flips.sum(axis = 1) > 3).mean()"
   ]
  },
  {
   "cell_type": "code",
   "execution_count": 47,
   "metadata": {},
   "outputs": [
    {
     "data": {
      "text/plain": [
       "0.0652"
      ]
     },
     "execution_count": 47,
     "metadata": {},
     "output_type": "execute_result"
    }
   ],
   "source": [
    "#There are approximitely 3 web development cohorts for every 1 data science cohort at Codeup. \n",
    "#Assuming that Codeup randomly selects an alumni to put on a billboard, \n",
    "#what are the odds that the two billboards I drive past both have data science students on them?\n",
    "studdent_on_billborad = np.random.choice([0, 1], p = [3/4, 1/4], size = (10_000, 2))\n",
    "((studdent_on_billborad.sum(axis = 1)) == 2).mean()"
   ]
  },
  {
   "cell_type": "code",
   "execution_count": 49,
   "metadata": {},
   "outputs": [
    {
     "data": {
      "text/plain": [
       "0.9306"
      ]
     },
     "execution_count": 49,
     "metadata": {},
     "output_type": "execute_result"
    }
   ],
   "source": [
    "#Codeup students buy, on average, 3 poptart packages (+- 1.5) a day from the snack vending machine. \n",
    "#If on monday the machine is restocked with 17 poptart packages, \n",
    "#how likely is it that I will be able to buy some poptarts on Friday afternoon?\n",
    "poptart = np.round(np.random.normal(3, 1.5, size = (10_000, 4)))\n",
    "(poptart.sum(axis = 1) < 17).mean()"
   ]
  },
  {
   "cell_type": "code",
   "execution_count": 7,
   "metadata": {},
   "outputs": [
    {
     "data": {
      "text/plain": [
       "0.2148"
      ]
     },
     "execution_count": 7,
     "metadata": {},
     "output_type": "execute_result"
    }
   ],
   "source": [
    "#Compare Heights\n",
    "#Men have an average height of 178 cm and standard deviation of 8cm.\n",
    "#Women have a mean of 170, sd = 6cm.\n",
    "#If a man and woman are chosen at random, P(woman taller than man)?\n",
    "men = np.random.normal(178, 8, size = 10_000)\n",
    "women = np.random.normal(170, 6, size = 10_000)\n",
    "hights = pd.DataFrame({'men': men,'women': women})\n",
    "\n",
    "(hights.men < hights.women).mean()"
   ]
  },
  {
   "cell_type": "code",
   "execution_count": 8,
   "metadata": {},
   "outputs": [
    {
     "data": {
      "text/plain": [
       "0.8186"
      ]
     },
     "execution_count": 8,
     "metadata": {},
     "output_type": "execute_result"
    }
   ],
   "source": [
    "#When installing anaconda on a student's computer, \n",
    "#there's a 1 in 250 chance that the download is corrupted and the installation fails. \n",
    "# What are the odds that after having 50 students download anaconda, no one has an installation issue? 100 students?\n",
    "installation = np.random.choice([1,0], p = [1/250, 249/250],size = (10_000, 50))\n",
    "(installation.sum(axis = 1) == 0).mean()\n"
   ]
  },
  {
   "cell_type": "code",
   "execution_count": 51,
   "metadata": {},
   "outputs": [
    {
     "data": {
      "text/plain": [
       "0.4488"
      ]
     },
     "execution_count": 51,
     "metadata": {},
     "output_type": "execute_result"
    }
   ],
   "source": [
    "#What is the probability that we observe an installation issue within the first 150 students that download anaconda?\n",
    "installation = np.random.choice([1,0], p = [1/250, 249/250],size = (10_000, 150))\n",
    "1 - (installation.sum(axis = 1) == 0).mean()\n"
   ]
  },
  {
   "cell_type": "code",
   "execution_count": 10,
   "metadata": {},
   "outputs": [
    {
     "data": {
      "text/plain": [
       "0.1666"
      ]
     },
     "execution_count": 10,
     "metadata": {},
     "output_type": "execute_result"
    }
   ],
   "source": [
    "#How likely is it that 450 students all download anaconda without an issue?\n",
    "installation = np.random.choice([1,0], p = [1/250, 249/250],size = (10_000, 450))\n",
    "(installation.sum(axis = 1) == 0).mean()"
   ]
  },
  {
   "cell_type": "code",
   "execution_count": 11,
   "metadata": {},
   "outputs": [
    {
     "data": {
      "text/plain": [
       "0.0258"
      ]
     },
     "execution_count": 11,
     "metadata": {},
     "output_type": "execute_result"
    }
   ],
   "source": [
    "#There's a 70% chance on any given day that there will be at least one food truck at Travis Park. \n",
    "#However, you haven't seen a food truck there in 3 days. How unlikely is this?\n",
    "food_truck = np.random.choice([1, 0], p = [.7, .3], size = (10_000, 3))\n",
    "(food_truck.sum(axis = 1) == 0).mean()"
   ]
  },
  {
   "cell_type": "code",
   "execution_count": 12,
   "metadata": {},
   "outputs": [
    {
     "data": {
      "text/plain": [
       "0.9999"
      ]
     },
     "execution_count": 12,
     "metadata": {},
     "output_type": "execute_result"
    }
   ],
   "source": [
    "#How likely is it that a food truck will show up sometime this week?\n",
    "food_truck = np.random.choice([1, 0], p = [.7, .3], size = (10_000, 7))\n",
    "(food_truck.sum(axis = 1) > 0).mean()"
   ]
  },
  {
   "cell_type": "code",
   "execution_count": 38,
   "metadata": {},
   "outputs": [],
   "source": [
    "#If 23 people are in the same room, what are the odds that two of them share a birthday?  \n",
    "birthday = np.random.choice(range(1,366), size = (10_000, 23))\n",
    "birthday = pd.DataFrame(birthday)"
   ]
  },
  {
   "cell_type": "code",
   "execution_count": 39,
   "metadata": {},
   "outputs": [
    {
     "data": {
      "text/plain": [
       "0.3677"
      ]
     },
     "execution_count": 39,
     "metadata": {},
     "output_type": "execute_result"
    }
   ],
   "source": [
    "def distinct_birthdays(birthdays):\n",
    "    return len(set(birthdays))\n",
    "(birthday.apply(distinct_birthdays, axis = 1) == 22).mean()"
   ]
  },
  {
   "cell_type": "code",
   "execution_count": 45,
   "metadata": {},
   "outputs": [
    {
     "data": {
      "text/plain": [
       "0.327"
      ]
     },
     "execution_count": 45,
     "metadata": {},
     "output_type": "execute_result"
    }
   ],
   "source": [
    "#What if it's 20 people?\n",
    "birthday = np.random.choice(range(1,366), size = (10_000, 20))\n",
    "birthday = pd.DataFrame(birthday)\n",
    "(birthday.apply(distinct_birthdays, axis = 1) == 19).mean()"
   ]
  },
  {
   "cell_type": "code",
   "execution_count": 35,
   "metadata": {},
   "outputs": [
    {
     "data": {
      "text/plain": [
       "0.2645"
      ]
     },
     "execution_count": 35,
     "metadata": {},
     "output_type": "execute_result"
    }
   ],
   "source": [
    "#What if it's 40 people?\n",
    "birthday = np.random.choice(range(1,366), size = (10_000, 40))\n",
    "birthday = pd.DataFrame(birthday)\n",
    "(birthday.apply(distinct_birthdays, axis = 1) == 39).mean()"
   ]
  },
  {
   "cell_type": "code",
   "execution_count": 4,
   "metadata": {},
   "outputs": [],
   "source": [
    "np.random.choice?"
   ]
  },
  {
   "cell_type": "code",
   "execution_count": null,
   "metadata": {},
   "outputs": [],
   "source": []
  }
 ],
 "metadata": {
  "kernelspec": {
   "display_name": "Python 3",
   "language": "python",
   "name": "python3"
  },
  "language_info": {
   "codemirror_mode": {
    "name": "ipython",
    "version": 3
   },
   "file_extension": ".py",
   "mimetype": "text/x-python",
   "name": "python",
   "nbconvert_exporter": "python",
   "pygments_lexer": "ipython3",
   "version": "3.7.4"
  }
 },
 "nbformat": 4,
 "nbformat_minor": 2
}
