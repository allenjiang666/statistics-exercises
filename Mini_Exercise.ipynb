{
 "cells": [
  {
   "cell_type": "markdown",
   "metadata": {},
   "source": [
    "## Mini_Exercise\n",
    "1. Calculate, theoretically (in your head is fine), the expected value for the average of 6 dice rolls.\n",
    "1. Write the code necessary to simulate taking the average of 6 dice rolls 10,000 times. Store each of the 10,000 averages in a list.\n",
    "1. Plot the distribution of the calculated averages. What do you notice? What kind of distribution is the underlying random variable (i.e. one dice roll?)"
   ]
  },
  {
   "cell_type": "code",
   "execution_count": 1,
   "metadata": {},
   "outputs": [],
   "source": [
    "import numpy as np\n",
    "import pandas as pd\n",
    "import matplotlib.pyplot as plt\n",
    "\n",
    "from scipy import stats"
   ]
  },
  {
   "cell_type": "code",
   "execution_count": 11,
   "metadata": {},
   "outputs": [
    {
     "data": {
      "text/plain": [
       "(array([   4.,   10.,   84.,   96.,  152.,  593.,  487., 1352.,  867.,\n",
       "         891., 1819.,  855., 1347.,  480.,  337.,  422.,  111.,   80.,\n",
       "           9.,    4.]),\n",
       " array([1.16666667, 1.4       , 1.63333333, 1.86666667, 2.1       ,\n",
       "        2.33333333, 2.56666667, 2.8       , 3.03333333, 3.26666667,\n",
       "        3.5       , 3.73333333, 3.96666667, 4.2       , 4.43333333,\n",
       "        4.66666667, 4.9       , 5.13333333, 5.36666667, 5.6       ,\n",
       "        5.83333333]),\n",
       " <a list of 20 Patch objects>)"
      ]
     },
     "execution_count": 11,
     "metadata": {},
     "output_type": "execute_result"
    },
    {
     "data": {
      "image/png": "[encoded data removed]",
      "text/plain": [
       "<Figure size 432x288 with 1 Axes>"
      ]
     },
     "metadata": {
      "needs_background": "light"
     },
     "output_type": "display_data"
    }
   ],
   "source": [
    "dice_rolls = np.random.choice([1, 2, 3, 4, 5, 6], size = (10_000, 6))\n",
    "avg_dice_rolls = dice_rolls.mean(axis = 1)\n",
    "plt.hist(avg_dice_rolls, bins = 20)\n",
    "# plt.xticks([0, 1], ['Lose', 'Win'], rotation=0)"
   ]
  },
  {
   "cell_type": "code",
   "execution_count": null,
   "metadata": {},
   "outputs": [],
   "source": []
  }
 ],
 "metadata": {
  "kernelspec": {
   "display_name": "Python 3",
   "language": "python",
   "name": "python3"
  },
  "language_info": {
   "codemirror_mode": {
    "name": "ipython",
    "version": 3
   },
   "file_extension": ".py",
   "mimetype": "text/x-python",
   "name": "python",
   "nbconvert_exporter": "python",
   "pygments_lexer": "ipython3",
   "version": "3.7.4"
  }
 },
 "nbformat": 4,
 "nbformat_minor": 2
}
