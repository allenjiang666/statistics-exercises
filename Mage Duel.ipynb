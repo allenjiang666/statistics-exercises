{
 "cells": [
  {
   "cell_type": "markdown",
   "metadata": {},
   "source": [
    "Mage Duel!\n",
    "\n",
    "Let's use what we've learned to play a mage duel!\n",
    "\n",
    "- Imagine your wizard has 6d4 health points and you have spells that do 6d4 damage. \"6d4\" means rolling six 4-sided dice and summing the result.\n",
    "\n",
    "- Your opposing mage has 4d6 health points and spells that do 4d6. \"4d6\" means rolling four six-sided dice and summing the result.\n",
    "\n",
    "Exercises\n",
    "- Simulate mage duels to answer who is the more powerful mage?\n",
    "\n",
    "- Before running simulations, do you have a hypothesis of which mage will win? Do you have a hunch? Write it down. This is your first exercise.\n",
    "- Simulate 10 mage duels. Is there a clear winner? Run that 10 duel simulation again. Was the answer similar?\n",
    "- Do the results change much at 100 duels?\n",
    "- Now, simulate 10,000 mage duels. Is there a clear winner?"
   ]
  },
  {
   "cell_type": "code",
   "execution_count": 1,
   "metadata": {},
   "outputs": [],
   "source": [
    "import numpy as np\n",
    "import pandas as pd"
   ]
  },
  {
   "cell_type": "code",
   "execution_count": 18,
   "metadata": {},
   "outputs": [
    {
     "data": {
      "text/plain": [
       "0.4"
      ]
     },
     "execution_count": 18,
     "metadata": {},
     "output_type": "execute_result"
    }
   ],
   "source": [
    "#Simulate 10 mage duels\n",
    "simulation = 10\n",
    "mage1 = np.random.choice([1, 2, 3, 4], (simulation, 6))\n",
    "mage2 = np.random.choice([1, 2, 3, 4, 5, 6], (simulation, 4))\n",
    "duel = pd.DataFrame({'mage1': mage1.sum(axis = 1), 'mage2': mage2.sum(axis = 1)})\n",
    "(duel.mage1 < duel.mage2).mean()"
   ]
  },
  {
   "cell_type": "code",
   "execution_count": 19,
   "metadata": {},
   "outputs": [
    {
     "data": {
      "text/plain": [
       "0.32"
      ]
     },
     "execution_count": 19,
     "metadata": {},
     "output_type": "execute_result"
    }
   ],
   "source": [
    "#Do the results change much at 100 duels?\n",
    "simulation = 100\n",
    "mage1 = np.random.choice([1, 2, 3, 4], (simulation, 6))\n",
    "mage2 = np.random.choice([1, 2, 3, 4, 5, 6], (simulation, 4))\n",
    "duel = pd.DataFrame({'mage1': mage1.sum(axis = 1), 'mage2': mage2.sum(axis = 1)})\n",
    "(duel.mage1 < duel.mage2).mean()"
   ]
  },
  {
   "cell_type": "code",
   "execution_count": 20,
   "metadata": {},
   "outputs": [
    {
     "data": {
      "text/plain": [
       "0.3693"
      ]
     },
     "execution_count": 20,
     "metadata": {},
     "output_type": "execute_result"
    }
   ],
   "source": [
    "#Now, simulate 10,000 mage duels. Is there a clear winner?\n",
    "simulation = 10_000\n",
    "mage1 = np.random.choice([1, 2, 3, 4], (simulation, 6))\n",
    "mage2 = np.random.choice([1, 2, 3, 4, 5, 6], (simulation, 4))\n",
    "duel = pd.DataFrame({'mage1': mage1.sum(axis = 1), 'mage2': mage2.sum(axis = 1)})\n",
    "(duel.mage1 < duel.mage2).mean()"
   ]
  },
  {
   "cell_type": "code",
   "execution_count": null,
   "metadata": {},
   "outputs": [],
   "source": []
  }
 ],
 "metadata": {
  "kernelspec": {
   "display_name": "Python 3",
   "language": "python",
   "name": "python3"
  },
  "language_info": {
   "codemirror_mode": {
    "name": "ipython",
    "version": 3
   },
   "file_extension": ".py",
   "mimetype": "text/x-python",
   "name": "python",
   "nbconvert_exporter": "python",
   "pygments_lexer": "ipython3",
   "version": "3.7.4"
  }
 },
 "nbformat": 4,
 "nbformat_minor": 2
}
