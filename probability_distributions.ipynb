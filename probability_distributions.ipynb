{
 "cells": [
  {
   "cell_type": "markdown",
   "metadata": {},
   "source": [
    "![Image of Yaktocat](https://octodex.github.com/images/yaktocat.png)"
   ]
  },
  {
   "cell_type": "markdown",
   "metadata": {},
   "source": [
    "# Probability Distributions Exercises\n",
    "For the following problems, use python to simulate the problem and calculate an experimental probability, then compare that to the theoretical probability.\n",
    "\n"
   ]
  },
  {
   "cell_type": "code",
   "execution_count": 1,
   "metadata": {},
   "outputs": [],
   "source": [
    "from scipy import stats\n",
    "import numpy as np \n",
    "import pandas as pd\n",
    "import matplotlib.pyplot as plt\n"
   ]
  },
  {
   "cell_type": "markdown",
   "metadata": {},
   "source": [
    "## Exercise 1\n",
    "A bank found that the average number of cars waiting during the noon hour at a drive-up window follows a Poisson distribution with a mean of 2 cars. Make a chart of this distribution and answer these questions concerning the probability of cars waiting at the drive-up window."
   ]
  },
  {
   "cell_type": "code",
   "execution_count": 2,
   "metadata": {},
   "outputs": [
    {
     "data": {
      "text/plain": [
       "(array([1.385e+03, 2.687e+03, 2.718e+03, 1.778e+03, 9.040e+02, 3.840e+02,\n",
       "        1.060e+02, 3.000e+01, 7.000e+00, 1.000e+00]),\n",
       " array([ 0.,  1.,  2.,  3.,  4.,  5.,  6.,  7.,  8.,  9., 10.]),\n",
       " <a list of 10 Patch objects>)"
      ]
     },
     "execution_count": 2,
     "metadata": {},
     "output_type": "execute_result"
    },
    {
     "data": {
      "image/png": "[encoded data removed]",
      "text/plain": [
       "<Figure size 720x432 with 1 Axes>"
      ]
     },
     "metadata": {
      "needs_background": "light"
     },
     "output_type": "display_data"
    }
   ],
   "source": [
    "plt.figure(figsize = (10, 6))\n",
    "cars = stats.poisson(2)\n",
    "plt.hist(cars.rvs(10_000), bins = 10)\n"
   ]
  },
  {
   "cell_type": "markdown",
   "metadata": {},
   "source": [
    "1. What is the probability that no cars drive up in the noon hour?\n"
   ]
  },
  {
   "cell_type": "code",
   "execution_count": 29,
   "metadata": {},
   "outputs": [
    {
     "data": {
      "text/plain": [
       "{'simulation': 0.1327, 'theoretical': 0.1353352832366127}"
      ]
     },
     "execution_count": 29,
     "metadata": {},
     "output_type": "execute_result"
    }
   ],
   "source": [
    "simu = (cars.rvs(10_000) == 0).mean()\n",
    "theo = cars.pmf(0)\n",
    "{\"simulation\": simu, \"theoretical\": theo}"
   ]
  },
  {
   "cell_type": "markdown",
   "metadata": {},
   "source": [
    "2. What is the probability that 3 or more cars come through the drive through?"
   ]
  },
  {
   "cell_type": "code",
   "execution_count": 4,
   "metadata": {},
   "outputs": [
    {
     "data": {
      "text/plain": [
       "{'simulation': 0.3178, 'theoretical': 0.32332358381693654}"
      ]
     },
     "execution_count": 4,
     "metadata": {},
     "output_type": "execute_result"
    }
   ],
   "source": [
    "simu = (cars.rvs(10_000) >= 3).mean()\n",
    "theo = cars.sf(2) \n",
    "{\"simulation\": simu, \"theoretical\": theo}"
   ]
  },
  {
   "cell_type": "markdown",
   "metadata": {},
   "source": [
    "3. How likely is it that the drive through gets at least 1 car?"
   ]
  },
  {
   "cell_type": "code",
   "execution_count": 5,
   "metadata": {},
   "outputs": [
    {
     "data": {
      "text/plain": [
       "{'simulation': 0.8647, 'theoretical': 0.8646647167633873}"
      ]
     },
     "execution_count": 5,
     "metadata": {},
     "output_type": "execute_result"
    }
   ],
   "source": [
    "simu = (cars.rvs(10_000) >= 1).mean()\n",
    "theo = cars.sf(0) \n",
    "{\"simulation\": simu, \"theoretical\": theo}"
   ]
  },
  {
   "cell_type": "markdown",
   "metadata": {},
   "source": [
    "## Exercise 2"
   ]
  },
  {
   "cell_type": "markdown",
   "metadata": {},
   "source": [
    "Grades of State University graduates are normally distributed with a mean of 3.0 and a standard deviation of .3. Calculate the following:"
   ]
  },
  {
   "cell_type": "code",
   "execution_count": 6,
   "metadata": {},
   "outputs": [
    {
     "data": {
      "text/plain": [
       "(array([   5.,   10.,   40.,   98.,  210.,  398.,  684.,  946., 1296.,\n",
       "        1509., 1459., 1229.,  904.,  642.,  322.,  153.,   62.,   23.,\n",
       "           6.,    4.]),\n",
       " array([1.88262512, 1.99570911, 2.1087931 , 2.2218771 , 2.33496109,\n",
       "        2.44804508, 2.56112907, 2.67421306, 2.78729705, 2.90038104,\n",
       "        3.01346503, 3.12654902, 3.23963301, 3.352717  , 3.465801  ,\n",
       "        3.57888499, 3.69196898, 3.80505297, 3.91813696, 4.03122095,\n",
       "        4.14430494]),\n",
       " <a list of 20 Patch objects>)"
      ]
     },
     "execution_count": 6,
     "metadata": {},
     "output_type": "execute_result"
    },
    {
     "data": {
      "image/png": "[encoded data removed]",
      "text/plain": [
       "<Figure size 720x432 with 1 Axes>"
      ]
     },
     "metadata": {
      "needs_background": "light"
     },
     "output_type": "display_data"
    }
   ],
   "source": [
    "plt.figure(figsize = (10, 6))\n",
    "grades = stats.norm(3, .3)\n",
    "plt.hist(grades.rvs(10_000), bins = 20)"
   ]
  },
  {
   "cell_type": "markdown",
   "metadata": {},
   "source": [
    "1. What grade point average is required to be in the top 5% of the graduating class?"
   ]
  },
  {
   "cell_type": "code",
   "execution_count": 7,
   "metadata": {},
   "outputs": [],
   "source": [
    "grades_df = pd.DataFrame(np.sort(grades.rvs(10_000)))\n"
   ]
  },
  {
   "cell_type": "code",
   "execution_count": 8,
   "metadata": {},
   "outputs": [
    {
     "data": {
      "text/plain": [
       "{'simulation': 3.499999865400867, 'theoretical': 3.4934560880854417}"
      ]
     },
     "execution_count": 8,
     "metadata": {},
     "output_type": "execute_result"
    }
   ],
   "source": [
    "simu = grades_df.iloc[int(10_000 * .95) - 1][0]\n",
    "theo = grades.isf(.05) \n",
    "{\"simulation\": simu, \"theoretical\": theo}"
   ]
  },
  {
   "cell_type": "markdown",
   "metadata": {},
   "source": [
    "2. What GPA constitutes the bottom 15% of the class?"
   ]
  },
  {
   "cell_type": "code",
   "execution_count": 9,
   "metadata": {},
   "outputs": [
    {
     "data": {
      "text/plain": [
       "{'simulation': 2.6915623516596066, 'theoretical': 2.689069983151863}"
      ]
     },
     "execution_count": 9,
     "metadata": {},
     "output_type": "execute_result"
    }
   ],
   "source": [
    "simu = grades_df.iloc[int(10_000 * .15) - 1][0]\n",
    "theo = grades.ppf(.15) \n",
    "{\"simulation\": simu, \"theoretical\": theo}"
   ]
  },
  {
   "cell_type": "markdown",
   "metadata": {},
   "source": [
    "3. An eccentric alumnus left scholarship money for students in the third decile from the bottom of their class. Determine the range of the third decile. Would a student with a 2.8 grade point average qualify for this scholarship?"
   ]
  },
  {
   "cell_type": "code",
   "execution_count": 10,
   "metadata": {},
   "outputs": [
    {
     "data": {
      "text/plain": [
       "{'simulation': (2.7502358993060154, 2.8461011448728843),\n",
       " 'theoretical': (2.7475136299281258, 2.842679846187588)}"
      ]
     },
     "execution_count": 10,
     "metadata": {},
     "output_type": "execute_result"
    }
   ],
   "source": [
    "third_decile_min = grades_df.iloc[int(10_000 * .2) - 1][0]\n",
    "third_decile_max = grades_df.iloc[int(10_000 * .3) - 1][0]\n",
    "\n",
    "simu = (third_decile_min, third_decile_max)\n",
    "theo = (grades.ppf(.2), grades.ppf(.3))\n",
    "{\"simulation\": simu, \"theoretical\": theo}"
   ]
  },
  {
   "cell_type": "markdown",
   "metadata": {},
   "source": [
    "4. If I have a GPA of 3.5, what percentile am I in?"
   ]
  },
  {
   "cell_type": "code",
   "execution_count": 30,
   "metadata": {},
   "outputs": [
    {
     "data": {
      "text/plain": [
       "{'simulation': 0.9542, 'theoretical': 0.9522096477271853}"
      ]
     },
     "execution_count": 30,
     "metadata": {},
     "output_type": "execute_result"
    }
   ],
   "source": [
    "simu = (grades.rvs(10_000) <= 3.5).mean()\n",
    "theo = grades.cdf(3.5) \n",
    "{\"simulation\": simu, \"theoretical\": theo}"
   ]
  },
  {
   "cell_type": "markdown",
   "metadata": {},
   "source": [
    "## Exercise 3"
   ]
  },
  {
   "cell_type": "markdown",
   "metadata": {},
   "source": [
    "A marketing website has an average click-through rate of 2%. One day they observe 4326 visitors and 97 click-throughs. How likely is it that this many people or more click through?"
   ]
  },
  {
   "cell_type": "code",
   "execution_count": 12,
   "metadata": {
    "scrolled": false
   },
   "outputs": [
    {
     "data": {
      "text/plain": [
       "(array([  18.,  228.,  884., 1820., 2927., 2480., 1091.,  451.,   90.,\n",
       "          11.]),\n",
       " array([ 55. ,  61.7,  68.4,  75.1,  81.8,  88.5,  95.2, 101.9, 108.6,\n",
       "        115.3, 122. ]),\n",
       " <a list of 10 Patch objects>)"
      ]
     },
     "execution_count": 12,
     "metadata": {},
     "output_type": "execute_result"
    },
    {
     "data": {
      "image/png": "[encoded data removed]",
      "text/plain": [
       "<Figure size 432x288 with 1 Axes>"
      ]
     },
     "metadata": {
      "needs_background": "light"
     },
     "output_type": "display_data"
    }
   ],
   "source": [
    "click_through = stats.binom(4326, .02)\n",
    "plt.hist(click_through.rvs(10_000))"
   ]
  },
  {
   "cell_type": "code",
   "execution_count": 13,
   "metadata": {},
   "outputs": [
    {
     "data": {
      "text/plain": [
       "{'simulation': 0.14065, 'theoretical': 0.13975823631333503}"
      ]
     },
     "execution_count": 13,
     "metadata": {},
     "output_type": "execute_result"
    }
   ],
   "source": [
    "simu = (click_through.rvs(100_000) >= 97).mean()\n",
    "theo = click_through.sf(97) + click_through.pmf(97)\n",
    "{\"simulation\": simu, \"theoretical\": theo}"
   ]
  },
  {
   "cell_type": "markdown",
   "metadata": {},
   "source": [
    "## Exercise 4\n"
   ]
  },
  {
   "cell_type": "markdown",
   "metadata": {},
   "source": [
    "You are working on some statistics homework consisting of 100 questions where all of the answers are a probability rounded to the hundreths place. Looking to save time, you put down random probabilities as the answer to each question.\n",
    "\n",
    "- What is the probability that at least one of your first 60 answers is correct?"
   ]
  },
  {
   "cell_type": "code",
   "execution_count": 14,
   "metadata": {},
   "outputs": [
    {
     "data": {
      "text/plain": [
       "(array([5.485e+03, 0.000e+00, 3.286e+03, 0.000e+00, 9.920e+02, 0.000e+00,\n",
       "        2.060e+02, 0.000e+00, 3.000e+01, 1.000e+00]),\n",
       " array([0. , 0.5, 1. , 1.5, 2. , 2.5, 3. , 3.5, 4. , 4.5, 5. ]),\n",
       " <a list of 10 Patch objects>)"
      ]
     },
     "execution_count": 14,
     "metadata": {},
     "output_type": "execute_result"
    },
    {
     "data": {
      "image/png": "[encoded data removed]",
      "text/plain": [
       "<Figure size 432x288 with 1 Axes>"
      ]
     },
     "metadata": {
      "needs_background": "light"
     },
     "output_type": "display_data"
    }
   ],
   "source": [
    "correct_anwser = stats.binom(60, .01)\n",
    "plt.hist(correct_anwser.rvs(10_000))"
   ]
  },
  {
   "cell_type": "code",
   "execution_count": 15,
   "metadata": {},
   "outputs": [
    {
     "data": {
      "text/plain": [
       "{'simulation': 0.4542, 'theoretical': 0.4528433576092388}"
      ]
     },
     "execution_count": 15,
     "metadata": {},
     "output_type": "execute_result"
    }
   ],
   "source": [
    "simu = (correct_anwser.rvs(10_000) >= 1).mean()\n",
    "theo = correct_anwser.sf(0)\n",
    "{\"simulation\": simu, \"theoretical\": theo}"
   ]
  },
  {
   "cell_type": "markdown",
   "metadata": {},
   "source": [
    "## Exercise 5"
   ]
  },
  {
   "cell_type": "markdown",
   "metadata": {},
   "source": [
    "The codeup staff tends to get upset when the student break area is not cleaned up. Suppose that there's a 3% chance that any one student cleans the break area when they visit it, and, on any given day, about 90% of the 3 active cohorts of 22 students visit the break area. \n",
    "1. How likely is it that the break area gets cleaned up each day?\n",
    "2. How likely is it that it goes two days without getting cleaned up? All week?"
   ]
  },
  {
   "cell_type": "code",
   "execution_count": 16,
   "metadata": {
    "scrolled": true
   },
   "outputs": [
    {
     "data": {
      "text/plain": [
       "(array([1.618e+03, 2.973e+03, 2.818e+03, 1.631e+03, 6.480e+02, 2.320e+02,\n",
       "        5.700e+01, 2.100e+01, 0.000e+00, 2.000e+00]),\n",
       " array([0. , 0.9, 1.8, 2.7, 3.6, 4.5, 5.4, 6.3, 7.2, 8.1, 9. ]),\n",
       " <a list of 10 Patch objects>)"
      ]
     },
     "execution_count": 16,
     "metadata": {},
     "output_type": "execute_result"
    },
    {
     "data": {
      "image/png": "[encoded data removed]",
      "text/plain": [
       "<Figure size 432x288 with 1 Axes>"
      ]
     },
     "metadata": {
      "needs_background": "light"
     },
     "output_type": "display_data"
    }
   ],
   "source": [
    "#How likely is it that the break area gets cleaned up each day?\n",
    "clean_break_area = stats.binom(int(.9*3*22), .03)\n",
    "plt.hist(clean_break_area.rvs(10_000))"
   ]
  },
  {
   "cell_type": "code",
   "execution_count": 17,
   "metadata": {},
   "outputs": [
    {
     "data": {
      "text/plain": [
       "{'simulation': 0.8362, 'theoretical': 0.8342199288437355}"
      ]
     },
     "execution_count": 17,
     "metadata": {},
     "output_type": "execute_result"
    }
   ],
   "source": [
    "simu =(clean_break_area.rvs(10_000) > 0).mean()\n",
    "theo = clean_break_area.sf(0)\n",
    "{\"simulation\": simu, \"theoretical\": theo}"
   ]
  },
  {
   "cell_type": "code",
   "execution_count": 32,
   "metadata": {},
   "outputs": [
    {
     "data": {
      "text/plain": [
       "{'simulation': 0.02785, 'theoretical': 0.02748303199257623}"
      ]
     },
     "execution_count": 32,
     "metadata": {},
     "output_type": "execute_result"
    }
   ],
   "source": [
    "# How likely is it that it goes two days without getting cleaned up? All week?\n",
    "simu =((clean_break_area.rvs((100_000, 2)) == 0).sum(axis = 1) == 2).mean()\n",
    "theo = (clean_break_area.pmf(0))**2\n",
    "{\"simulation\": simu, \"theoretical\": theo}"
   ]
  },
  {
   "cell_type": "markdown",
   "metadata": {},
   "source": [
    "## Exercise 6"
   ]
  },
  {
   "cell_type": "markdown",
   "metadata": {},
   "source": [
    "You want to get lunch at La Panaderia, but notice that the line is usually very long at lunchtime. After several weeks of careful observation, you notice that the average number of people in line when your lunch break starts is normally distributed with a mean of 15 and standard deviation of 3. \n",
    "1. If it takes 2 minutes for each person to order, and 10 minutes from ordering to getting your food, what is the likelihood that you have at least 15 minutes left to eat your food before you have to go back to class? \n",
    "1. Assume you have one hour for lunch, and ignore travel time to and from La Panaderia"
   ]
  },
  {
   "cell_type": "code",
   "execution_count": 19,
   "metadata": {},
   "outputs": [
    {
     "data": {
      "text/plain": [
       "(array([   5.,   71.,  454., 1555., 2854., 2841., 1610.,  534.,   69.,\n",
       "           7.]),\n",
       " array([ 2.96869426,  5.36653642,  7.76437859, 10.16222075, 12.56006292,\n",
       "        14.95790508, 17.35574724, 19.75358941, 22.15143157, 24.54927373,\n",
       "        26.9471159 ]),\n",
       " <a list of 10 Patch objects>)"
      ]
     },
     "execution_count": 19,
     "metadata": {},
     "output_type": "execute_result"
    },
    {
     "data": {
      "image/png": "[encoded data removed]",
      "text/plain": [
       "<Figure size 432x288 with 1 Axes>"
      ]
     },
     "metadata": {
      "needs_background": "light"
     },
     "output_type": "display_data"
    }
   ],
   "source": [
    "number_of_people_in_line = stats.norm(15, 3)\n",
    "plt.hist(number_of_people_in_line.rvs(10_000))"
   ]
  },
  {
   "cell_type": "code",
   "execution_count": 35,
   "metadata": {},
   "outputs": [
    {
     "data": {
      "text/plain": [
       "{'simulation': 0.69226, 'theoretical': 0.6914624612740131}"
      ]
     },
     "execution_count": 35,
     "metadata": {},
     "output_type": "execute_result"
    }
   ],
   "source": [
    "simu = (number_of_people_in_line.rvs(100_000) <= 16.5).mean()\n",
    "theo = number_of_people_in_line.cdf(16.5)\n",
    "{\"simulation\": simu, \"theoretical\": theo}"
   ]
  },
  {
   "cell_type": "code",
   "execution_count": null,
   "metadata": {},
   "outputs": [],
   "source": [
    "# convert people to time so avg_wait = 15*2 sd = 3* 2"
   ]
  },
  {
   "cell_type": "markdown",
   "metadata": {},
   "source": [
    "## Exercise 7"
   ]
  },
  {
   "cell_type": "markdown",
   "metadata": {},
   "source": [
    "Connect to the employees database and find the average salary of current employees, along with the standard deviation. Model the distribution of employees salaries with a normal distribution and answer the following questions:\n",
    "\n",
    "1. What percent of employees earn less than 60,000?\n",
    "2. What percent of employees earn more than 95,000?\n",
    "3. What percent of employees earn between 65,000 and 80,000?\n",
    "4. What do the top 5% of employees make?"
   ]
  },
  {
   "cell_type": "code",
   "execution_count": 39,
   "metadata": {},
   "outputs": [
    {
     "data": {
      "text/html": [
       "<div>\n",
       "<style scoped>\n",
       "    .dataframe tbody tr th:only-of-type {\n",
       "        vertical-align: middle;\n",
       "    }\n",
       "\n",
       "    .dataframe tbody tr th {\n",
       "        vertical-align: top;\n",
       "    }\n",
       "\n",
       "    .dataframe thead th {\n",
       "        text-align: right;\n",
       "    }\n",
       "</style>\n",
       "<table border=\"1\" class=\"dataframe\">\n",
       "  <thead>\n",
       "    <tr style=\"text-align: right;\">\n",
       "      <th></th>\n",
       "      <th>emp_no</th>\n",
       "      <th>salary</th>\n",
       "      <th>from_date</th>\n",
       "      <th>to_date</th>\n",
       "    </tr>\n",
       "  </thead>\n",
       "  <tbody>\n",
       "    <tr>\n",
       "      <td>0</td>\n",
       "      <td>10001</td>\n",
       "      <td>60117</td>\n",
       "      <td>1986-06-26</td>\n",
       "      <td>1987-06-26</td>\n",
       "    </tr>\n",
       "    <tr>\n",
       "      <td>1</td>\n",
       "      <td>10001</td>\n",
       "      <td>62102</td>\n",
       "      <td>1987-06-26</td>\n",
       "      <td>1988-06-25</td>\n",
       "    </tr>\n",
       "    <tr>\n",
       "      <td>2</td>\n",
       "      <td>10001</td>\n",
       "      <td>66074</td>\n",
       "      <td>1988-06-25</td>\n",
       "      <td>1989-06-25</td>\n",
       "    </tr>\n",
       "    <tr>\n",
       "      <td>3</td>\n",
       "      <td>10001</td>\n",
       "      <td>66596</td>\n",
       "      <td>1989-06-25</td>\n",
       "      <td>1990-06-25</td>\n",
       "    </tr>\n",
       "    <tr>\n",
       "      <td>4</td>\n",
       "      <td>10001</td>\n",
       "      <td>66961</td>\n",
       "      <td>1990-06-25</td>\n",
       "      <td>1991-06-25</td>\n",
       "    </tr>\n",
       "  </tbody>\n",
       "</table>\n",
       "</div>"
      ],
      "text/plain": [
       "   emp_no  salary   from_date     to_date\n",
       "0   10001   60117  1986-06-26  1987-06-26\n",
       "1   10001   62102  1987-06-26  1988-06-25\n",
       "2   10001   66074  1988-06-25  1989-06-25\n",
       "3   10001   66596  1989-06-25  1990-06-25\n",
       "4   10001   66961  1990-06-25  1991-06-25"
      ]
     },
     "execution_count": 39,
     "metadata": {},
     "output_type": "execute_result"
    }
   ],
   "source": [
    "def get_db_url(db_name):\n",
    "    from env import host, user, password\n",
    "    url = f'mysql+pymysql://{user}:{password}@{host}/{db_name}'\n",
    "    return url\n",
    "query = ('''\n",
    "    SELECT  * \n",
    "    FROM salaries \n",
    "    LIMIT 1000\n",
    "    ''')\n",
    "salaries = pd.read_sql(query, get_db_url(\"employees\"))\n",
    "salaries.head()"
   ]
  },
  {
   "cell_type": "code",
   "execution_count": 22,
   "metadata": {},
   "outputs": [
    {
     "data": {
      "text/plain": [
       "(72012.23585730705, 17309.99538025198)"
      ]
     },
     "execution_count": 22,
     "metadata": {},
     "output_type": "execute_result"
    }
   ],
   "source": [
    "average_salaries = salaries.salary.mean()\n",
    "standard_deviation = salaries.salary.std()\n",
    "(average_salaries, standard_deviation)"
   ]
  },
  {
   "cell_type": "code",
   "execution_count": 23,
   "metadata": {},
   "outputs": [
    {
     "data": {
      "text/plain": [
       "(array([   5.,   39.,  344., 1289., 2622., 3044., 1916.,  599.,  120.,\n",
       "          22.]),\n",
       " array([   472.3344137 ,  14244.6451669 ,  28016.95592009,  41789.26667329,\n",
       "         55561.57742649,  69333.88817968,  83106.19893288,  96878.50968608,\n",
       "        110650.82043927, 124423.13119247, 138195.44194566]),\n",
       " <a list of 10 Patch objects>)"
      ]
     },
     "execution_count": 23,
     "metadata": {},
     "output_type": "execute_result"
    },
    {
     "data": {
      "image/png": "[encoded data removed]",
      "text/plain": [
       "<Figure size 432x288 with 1 Axes>"
      ]
     },
     "metadata": {
      "needs_background": "light"
     },
     "output_type": "display_data"
    }
   ],
   "source": [
    "salaries = stats.norm(average_salaries, standard_deviation)\n",
    "plt.hist(salaries.rvs(10_000))"
   ]
  },
  {
   "cell_type": "code",
   "execution_count": 36,
   "metadata": {},
   "outputs": [
    {
     "data": {
      "text/plain": [
       "{'simulation': 0.24179, 'theoretical': 0.24385742480214423}"
      ]
     },
     "execution_count": 36,
     "metadata": {},
     "output_type": "execute_result"
    }
   ],
   "source": [
    "#1. What percent of employees earn less than 60,000?\n",
    "simu = (salaries.rvs(100_000) < 60_000).mean()\n",
    "theo = salaries.cdf(60_000)\n",
    "{\"simulation\": simu, \"theoretical\": theo}"
   ]
  },
  {
   "cell_type": "code",
   "execution_count": 25,
   "metadata": {},
   "outputs": [
    {
     "data": {
      "text/plain": [
       "{'simulation': 0.09273, 'theoretical': 0.09208819199804053}"
      ]
     },
     "execution_count": 25,
     "metadata": {},
     "output_type": "execute_result"
    }
   ],
   "source": [
    "#2. What percent of employees e arn more than 95,000?\n",
    "simu = (salaries.rvs(100_000) > 95_000).mean()\n",
    "theo = salaries.sf(95_000)\n",
    "{\"simulation\": simu, \"theoretical\": theo}"
   ]
  },
  {
   "cell_type": "code",
   "execution_count": 26,
   "metadata": {},
   "outputs": [
    {
     "data": {
      "text/plain": [
       "{'simulation': 0.33672, 'theoretical': 0.3350605685446666}"
      ]
     },
     "execution_count": 26,
     "metadata": {},
     "output_type": "execute_result"
    }
   ],
   "source": [
    "#3. what percent of employees earn between 65,000 and 80,000?\n",
    "salaries_in_array = salaries.rvs(100_000)\n",
    "simu = ((salaries_in_array > 65_000) & (salaries_in_array < 80_000)).mean()\n",
    "theo = salaries.cdf(80_000) - salaries.cdf(65_000)\n",
    "{\"simulation\": simu, \"theoretical\": theo}"
   ]
  },
  {
   "cell_type": "code",
   "execution_count": 38,
   "metadata": {},
   "outputs": [
    {
     "data": {
      "text/plain": [
       "{'simulation': 100692.12165020662, 'theoretical': 100484.64454102777}"
      ]
     },
     "execution_count": 38,
     "metadata": {},
     "output_type": "execute_result"
    }
   ],
   "source": [
    "#What do the top 5% of employees make?\n",
    "theo = salaries.isf(.05)\n",
    "simu = np.percentile(salaries.rvs(10_000), 95)\n",
    "{\"simulation\": simu, \"theoretical\": theo}"
   ]
  },
  {
   "cell_type": "code",
   "execution_count": null,
   "metadata": {},
   "outputs": [],
   "source": []
  }
 ],
 "metadata": {
  "kernelspec": {
   "display_name": "Python 3",
   "language": "python",
   "name": "python3"
  },
  "language_info": {
   "codemirror_mode": {
    "name": "ipython",
    "version": 3
   },
   "file_extension": ".py",
   "mimetype": "text/x-python",
   "name": "python",
   "nbconvert_exporter": "python",
   "pygments_lexer": "ipython3",
   "version": "3.7.4"
  }
 },
 "nbformat": 4,
 "nbformat_minor": 2
}
