{
 "cells": [
  {
   "cell_type": "markdown",
   "metadata": {},
   "source": [
    "![Image of Yaktocat](https://octodex.github.com/images/yaktocat.png)"
   ]
  },
  {
   "cell_type": "markdown",
   "metadata": {},
   "source": [
    "# Probability Distributions Exercises\n",
    "For the following problems, use python to simulate the problem and calculate an experimental probability, then compare that to the theoretical probability.\n",
    "\n"
   ]
  },
  {
   "cell_type": "code",
   "execution_count": 59,
   "metadata": {},
   "outputs": [],
   "source": [
    "from scipy import stats\n",
    "import numpy as np \n",
    "import pandas as pd\n",
    "import matplotlib.pyplot as plt\n"
   ]
  },
  {
   "cell_type": "markdown",
   "metadata": {},
   "source": [
    "## Exercise 1\n",
    "A bank found that the average number of cars waiting during the noon hour at a drive-up window follows a Poisson distribution with a mean of 2 cars. Make a chart of this distribution and answer these questions concerning the probability of cars waiting at the drive-up window."
   ]
  },
  {
   "cell_type": "code",
   "execution_count": 41,
   "metadata": {},
   "outputs": [
    {
     "data": {
      "text/plain": [
       "(array([1388., 2691., 2646., 1847.,  900.,  340.,  123.,   52.,    7.,\n",
       "           6.]),\n",
       " array([0. , 0.9, 1.8, 2.7, 3.6, 4.5, 5.4, 6.3, 7.2, 8.1, 9. ]),\n",
       " <a list of 10 Patch objects>)"
      ]
     },
     "execution_count": 41,
     "metadata": {},
     "output_type": "execute_result"
    },
    {
     "data": {
      "image/png": "[encoded data removed]",
      "text/plain": [
       "<Figure size 720x432 with 1 Axes>"
      ]
     },
     "metadata": {
      "needs_background": "light"
     },
     "output_type": "display_data"
    }
   ],
   "source": [
    "plt.figure(figsize = (10, 6))\n",
    "cars = stats.poisson(2)\n",
    "plt.hist(cars.rvs(10_000), bins = 10)\n"
   ]
  },
  {
   "cell_type": "markdown",
   "metadata": {},
   "source": [
    "1. What is the probability that no cars drive up in the noon hour?\n"
   ]
  },
  {
   "cell_type": "code",
   "execution_count": 32,
   "metadata": {},
   "outputs": [
    {
     "data": {
      "text/plain": [
       "{'simulatiom': 0.1328, 'theoretical': 0.1353352832366127}"
      ]
     },
     "execution_count": 32,
     "metadata": {},
     "output_type": "execute_result"
    }
   ],
   "source": [
    "simu = (cars.rvs(10_000) == 0).mean()\n",
    "theo = cars.pmf(0)\n",
    "{\"simulation\": simu, \"theoretical\": theo}"
   ]
  },
  {
   "cell_type": "markdown",
   "metadata": {},
   "source": [
    "2. What is the probability that 3 or more cars come through the drive through?"
   ]
  },
  {
   "cell_type": "code",
   "execution_count": 42,
   "metadata": {},
   "outputs": [
    {
     "data": {
      "text/plain": [
       "{'simulation': 0.326, 'theoretical': 0.32332358381693654}"
      ]
     },
     "execution_count": 42,
     "metadata": {},
     "output_type": "execute_result"
    }
   ],
   "source": [
    "simu = (cars.rvs(10_000) >= 3).mean()\n",
    "theo = cars.sf(2) \n",
    "{\"simulation\": simu, \"theoretical\": theo}"
   ]
  },
  {
   "cell_type": "markdown",
   "metadata": {},
   "source": [
    "3. How likely is it that the drive through gets at least 1 car?"
   ]
  },
  {
   "cell_type": "code",
   "execution_count": 43,
   "metadata": {},
   "outputs": [
    {
     "data": {
      "text/plain": [
       "{'simulation': 0.8629, 'theoretical': 0.8646647167633873}"
      ]
     },
     "execution_count": 43,
     "metadata": {},
     "output_type": "execute_result"
    }
   ],
   "source": [
    "simu = (cars.rvs(10_000) >= 1).mean()\n",
    "theo = cars.sf(0) \n",
    "{\"simulation\": simu, \"theoretical\": theo}"
   ]
  },
  {
   "cell_type": "markdown",
   "metadata": {},
   "source": [
    "## Exercise 2"
   ]
  },
  {
   "cell_type": "markdown",
   "metadata": {},
   "source": [
    "Grades of State University graduates are normally distributed with a mean of 3.0 and a standard deviation of .3. Calculate the following:"
   ]
  },
  {
   "cell_type": "code",
   "execution_count": 96,
   "metadata": {},
   "outputs": [
    {
     "data": {
      "text/plain": [
       "(array([   4.,   13.,   21.,   86.,  186.,  354.,  673., 1037., 1331.,\n",
       "        1468., 1519., 1240.,  896.,  596.,  345.,  147.,   61.,   14.,\n",
       "           6.,    3.]),\n",
       " array([1.86690674, 1.9822517 , 2.09759666, 2.21294162, 2.32828657,\n",
       "        2.44363153, 2.55897649, 2.67432145, 2.78966641, 2.90501136,\n",
       "        3.02035632, 3.13570128, 3.25104624, 3.3663912 , 3.48173616,\n",
       "        3.59708111, 3.71242607, 3.82777103, 3.94311599, 4.05846095,\n",
       "        4.1738059 ]),\n",
       " <a list of 20 Patch objects>)"
      ]
     },
     "execution_count": 96,
     "metadata": {},
     "output_type": "execute_result"
    },
    {
     "data": {
      "image/png": "[encoded data removed]",
      "text/plain": [
       "<Figure size 720x432 with 1 Axes>"
      ]
     },
     "metadata": {
      "needs_background": "light"
     },
     "output_type": "display_data"
    }
   ],
   "source": [
    "plt.figure(figsize = (10, 6))\n",
    "grades = stats.norm(3, .3)\n",
    "plt.hist(grades.rvs(10_000), bins = 20)"
   ]
  },
  {
   "cell_type": "markdown",
   "metadata": {},
   "source": [
    "1. What grade point average is required to be in the top 5% of the graduating class?"
   ]
  },
  {
   "cell_type": "code",
   "execution_count": 102,
   "metadata": {},
   "outputs": [],
   "source": [
    "grades_df = pd.DataFrame(np.sort(grades.rvs(10_000)))\n"
   ]
  },
  {
   "cell_type": "code",
   "execution_count": 103,
   "metadata": {},
   "outputs": [
    {
     "data": {
      "text/plain": [
       "{'simulation': 3.497048566451727, 'theoretical': 3.4934560880854417}"
      ]
     },
     "execution_count": 103,
     "metadata": {},
     "output_type": "execute_result"
    }
   ],
   "source": [
    "simu = grades_df.iloc[int(10_000 * .95) - 1][0]\n",
    "theo = grades.isf(.05) \n",
    "{\"simulation\": simu, \"theoretical\": theo}"
   ]
  },
  {
   "cell_type": "markdown",
   "metadata": {},
   "source": [
    "2. What GPA constitutes the bottom 15% of the class?"
   ]
  },
  {
   "cell_type": "code",
   "execution_count": 104,
   "metadata": {},
   "outputs": [
    {
     "data": {
      "text/plain": [
       "{'simulation': 2.6947186148228464, 'theoretical': 2.689069983151863}"
      ]
     },
     "execution_count": 104,
     "metadata": {},
     "output_type": "execute_result"
    }
   ],
   "source": [
    "simu = grades_df.iloc[int(10_000 * .15) - 1][0]\n",
    "theo = grades.ppf(.15) \n",
    "{\"simulation\": simu, \"theoretical\": theo}"
   ]
  },
  {
   "cell_type": "markdown",
   "metadata": {},
   "source": [
    "3. An eccentric alumnus left scholarship money for students in the third decile from the bottom of their class. Determine the range of the third decile. Would a student with a 2.8 grade point average qualify for this scholarship?"
   ]
  },
  {
   "cell_type": "code",
   "execution_count": 101,
   "metadata": {},
   "outputs": [
    {
     "data": {
      "text/plain": [
       "{'simulation': (2.74417613737091, 2.8401845920980535),\n",
       " 'theoretical': (2.7475136299281258, 2.842679846187588)}"
      ]
     },
     "execution_count": 101,
     "metadata": {},
     "output_type": "execute_result"
    }
   ],
   "source": [
    "third_decile_min = grades_df.iloc[int(10_000 * .2) - 1][0]\n",
    "third_decile_max = grades_df.iloc[int(10_000 * .3) - 1][0]\n",
    "\n",
    "simu = (third_decile_min, third_decile_max)\n",
    "theo = (grades.ppf(.2), grades.ppf(.3))\n",
    "{\"simulation\": simu, \"theoretical\": theo}"
   ]
  },
  {
   "cell_type": "markdown",
   "metadata": {},
   "source": [
    "4. If I have a GPA of 3.5, what percentile am I in?"
   ]
  },
  {
   "cell_type": "code",
   "execution_count": 107,
   "metadata": {},
   "outputs": [
    {
     "data": {
      "text/plain": [
       "{'simulation': 0.9532, 'theoretical': 0.9522096477271853}"
      ]
     },
     "execution_count": 107,
     "metadata": {},
     "output_type": "execute_result"
    }
   ],
   "source": [
    "simu = (grades.rvs(10_000) <= 3.5).mean()\n",
    "theo = grades.cdf(3.5) \n",
    "{\"simulation\": simu, \"theoretical\": theo}"
   ]
  },
  {
   "cell_type": "markdown",
   "metadata": {},
   "source": [
    "## Exercise 3"
   ]
  },
  {
   "cell_type": "markdown",
   "metadata": {},
   "source": [
    "A marketing website has an average click-through rate of 2%. One day they observe 4326 visitors and 97 click-throughs. How likely is it that this many people or more click through?"
   ]
  },
  {
   "cell_type": "code",
   "execution_count": 119,
   "metadata": {
    "scrolled": false
   },
   "outputs": [
    {
     "data": {
      "text/plain": [
       "(array([3.000e+00, 3.600e+01, 3.570e+02, 1.223e+03, 2.607e+03, 3.198e+03,\n",
       "        1.777e+03, 6.590e+02, 1.260e+02, 1.400e+01]),\n",
       " array([ 48. ,  55.4,  62.8,  70.2,  77.6,  85. ,  92.4,  99.8, 107.2,\n",
       "        114.6, 122. ]),\n",
       " <a list of 10 Patch objects>)"
      ]
     },
     "execution_count": 119,
     "metadata": {},
     "output_type": "execute_result"
    },
    {
     "data": {
      "image/png": "[encoded data removed]",
      "text/plain": [
       "<Figure size 432x288 with 1 Axes>"
      ]
     },
     "metadata": {
      "needs_background": "light"
     },
     "output_type": "display_data"
    }
   ],
   "source": [
    "click_through = stats.binom(4326, .02)\n",
    "plt.hist(click_through.rvs(10_000))"
   ]
  },
  {
   "cell_type": "code",
   "execution_count": 126,
   "metadata": {},
   "outputs": [
    {
     "data": {
      "text/plain": [
       "{'simulation': 0.14042, 'theoretical': 0.13975823631333503}"
      ]
     },
     "execution_count": 126,
     "metadata": {},
     "output_type": "execute_result"
    }
   ],
   "source": [
    "simu = (click_through.rvs(100_000) >= 97).mean()\n",
    "theo = click_through.sf(97) + click_through.pmf(97)\n",
    "{\"simulation\": simu, \"theoretical\": theo}"
   ]
  },
  {
   "cell_type": "markdown",
   "metadata": {},
   "source": [
    "## Exercise 4\n"
   ]
  },
  {
   "cell_type": "markdown",
   "metadata": {},
   "source": [
    "You are working on some statistics homework consisting of 100 questions where all of the answers are a probability rounded to the hundreths place. Looking to save time, you put down random probabilities as the answer to each question.\n",
    "\n",
    "- What is the probability that at least one of your first 60 answers is correct?"
   ]
  },
  {
   "cell_type": "code",
   "execution_count": 129,
   "metadata": {},
   "outputs": [
    {
     "data": {
      "text/plain": [
       "(array([5.401e+03, 0.000e+00, 3.391e+03, 0.000e+00, 9.690e+02, 0.000e+00,\n",
       "        2.090e+02, 0.000e+00, 2.800e+01, 2.000e+00]),\n",
       " array([0. , 0.5, 1. , 1.5, 2. , 2.5, 3. , 3.5, 4. , 4.5, 5. ]),\n",
       " <a list of 10 Patch objects>)"
      ]
     },
     "execution_count": 129,
     "metadata": {},
     "output_type": "execute_result"
    },
    {
     "data": {
      "image/png": "[encoded data removed]",
      "text/plain": [
       "<Figure size 432x288 with 1 Axes>"
      ]
     },
     "metadata": {
      "needs_background": "light"
     },
     "output_type": "display_data"
    }
   ],
   "source": [
    "correct_anwser = stats.binom(60, .01)\n",
    "plt.hist(correct_anwser.rvs(10_000))"
   ]
  },
  {
   "cell_type": "code",
   "execution_count": 132,
   "metadata": {},
   "outputs": [
    {
     "data": {
      "text/plain": [
       "{'simulation': 0.4514, 'theoretical': 0.4528433576092388}"
      ]
     },
     "execution_count": 132,
     "metadata": {},
     "output_type": "execute_result"
    }
   ],
   "source": [
    "simu = (correct_anwser.rvs(10_000) >= 1).mean()\n",
    "theo = correct_anwser.sf(0)\n",
    "{\"simulation\": simu, \"theoretical\": theo}"
   ]
  },
  {
   "cell_type": "markdown",
   "metadata": {},
   "source": [
    "## Exercise 5"
   ]
  },
  {
   "cell_type": "markdown",
   "metadata": {},
   "source": [
    "The codeup staff tends to get upset when the student break area is not cleaned up. Suppose that there's a 3% chance that any one student cleans the break area when they visit it, and, on any given day, about 90% of the 3 active cohorts of 22 students visit the break area. \n",
    "1. How likely is it that the break area gets cleaned up each day?\n",
    "2. How likely is it that it goes two days without getting cleaned up? All week?"
   ]
  },
  {
   "cell_type": "code",
   "execution_count": 140,
   "metadata": {
    "scrolled": true
   },
   "outputs": [
    {
     "data": {
      "text/plain": [
       "(array([1.628e+03, 3.008e+03, 2.719e+03, 1.600e+03, 7.140e+02, 2.490e+02,\n",
       "        5.500e+01, 2.200e+01, 3.000e+00, 2.000e+00]),\n",
       " array([ 0.,  1.,  2.,  3.,  4.,  5.,  6.,  7.,  8.,  9., 10.]),\n",
       " <a list of 10 Patch objects>)"
      ]
     },
     "execution_count": 140,
     "metadata": {},
     "output_type": "execute_result"
    },
    {
     "data": {
      "image/png": "[encoded data removed]",
      "text/plain": [
       "<Figure size 432x288 with 1 Axes>"
      ]
     },
     "metadata": {
      "needs_background": "light"
     },
     "output_type": "display_data"
    }
   ],
   "source": [
    "#How likely is it that the break area gets cleaned up each day?\n",
    "clean_break_area = stats.binom(int(.9*3*22), .03)\n",
    "plt.hist(clean_break_area.rvs(10_000))"
   ]
  },
  {
   "cell_type": "code",
   "execution_count": 141,
   "metadata": {},
   "outputs": [
    {
     "data": {
      "text/plain": [
       "{'simulation': 0.8325, 'theoretical': 0.8342199288437355}"
      ]
     },
     "execution_count": 141,
     "metadata": {},
     "output_type": "execute_result"
    }
   ],
   "source": [
    "simu =(clean_break_area.rvs(10_000) > 0).mean()\n",
    "theo = clean_break_area.sf(0)\n",
    "{\"simulation\": simu, \"theoretical\": theo}"
   ]
  },
  {
   "cell_type": "code",
   "execution_count": 150,
   "metadata": {},
   "outputs": [
    {
     "data": {
      "text/plain": [
       "{'simulation': 0.02733, 'theoretical': 0.02748303199257623}"
      ]
     },
     "execution_count": 150,
     "metadata": {},
     "output_type": "execute_result"
    }
   ],
   "source": [
    "# How likely is it that it goes two days without getting cleaned up? All week?\n",
    "simu =((clean_break_area.rvs((100_000, 2)) == 0).sum(axis = 1) == 2).mean()\n",
    "theo = (clean_break_area.pmf(0))**2\n",
    "{\"simulation\": simu, \"theoretical\": theo}"
   ]
  },
  {
   "cell_type": "markdown",
   "metadata": {},
   "source": [
    "## Exercise 6"
   ]
  },
  {
   "cell_type": "markdown",
   "metadata": {},
   "source": [
    "You want to get lunch at La Panaderia, but notice that the line is usually very long at lunchtime. After several weeks of careful observation, you notice that the average number of people in line when your lunch break starts is normally distributed with a mean of 15 and standard deviation of 3. \n",
    "1. If it takes 2 minutes for each person to order, and 10 minutes from ordering to getting your food, what is the likelihood that you have at least 15 minutes left to eat your food before you have to go back to class? \n",
    "1. Assume you have one hour for lunch, and ignore travel time to and from La Panaderia"
   ]
  },
  {
   "cell_type": "code",
   "execution_count": 154,
   "metadata": {},
   "outputs": [
    {
     "data": {
      "text/plain": [
       "(array([   7.,   73.,  390., 1301., 2562., 2924., 1851.,  721.,  147.,\n",
       "          24.]),\n",
       " array([ 3.14235606,  5.41818527,  7.69401448,  9.96984368, 12.24567289,\n",
       "        14.5215021 , 16.79733131, 19.07316052, 21.34898973, 23.62481894,\n",
       "        25.90064815]),\n",
       " <a list of 10 Patch objects>)"
      ]
     },
     "execution_count": 154,
     "metadata": {},
     "output_type": "execute_result"
    },
    {
     "data": {
      "image/png": "[encoded data removed]",
      "text/plain": [
       "<Figure size 432x288 with 1 Axes>"
      ]
     },
     "metadata": {
      "needs_background": "light"
     },
     "output_type": "display_data"
    }
   ],
   "source": [
    "number_of_people_in_line = stats.norm(15, 3)\n",
    "plt.hist(number_of_people_in_line.rvs(10_000))"
   ]
  },
  {
   "cell_type": "code",
   "execution_count": 160,
   "metadata": {},
   "outputs": [
    {
     "data": {
      "text/plain": [
       "{'simulation': 0.74828, 'theoretical': 0.7475074624530771}"
      ]
     },
     "execution_count": 160,
     "metadata": {},
     "output_type": "execute_result"
    }
   ],
   "source": [
    "simu = (number_of_people_in_line.rvs(100_000) <= 17).mean()\n",
    "theo = number_of_people_in_line.cdf(17)\n",
    "{\"simulation\": simu, \"theoretical\": theo}"
   ]
  },
  {
   "cell_type": "markdown",
   "metadata": {},
   "source": [
    "## Exercise 7"
   ]
  },
  {
   "cell_type": "markdown",
   "metadata": {},
   "source": [
    "Connect to the employees database and find the average salary of current employees, along with the standard deviation. Model the distribution of employees salaries with a normal distribution and answer the following questions:\n",
    "\n",
    "1. What percent of employees earn less than 60,000?\n",
    "2. What percent of employees earn more than 95,000?\n",
    "3. What percent of employees earn between 65,000 and 80,000?\n",
    "4. What do the top 5% of employees make?"
   ]
  },
  {
   "cell_type": "code",
   "execution_count": 164,
   "metadata": {},
   "outputs": [
    {
     "data": {
      "text/html": [
       "<div>\n",
       "<style scoped>\n",
       "    .dataframe tbody tr th:only-of-type {\n",
       "        vertical-align: middle;\n",
       "    }\n",
       "\n",
       "    .dataframe tbody tr th {\n",
       "        vertical-align: top;\n",
       "    }\n",
       "\n",
       "    .dataframe thead th {\n",
       "        text-align: right;\n",
       "    }\n",
       "</style>\n",
       "<table border=\"1\" class=\"dataframe\">\n",
       "  <thead>\n",
       "    <tr style=\"text-align: right;\">\n",
       "      <th></th>\n",
       "      <th>emp_no</th>\n",
       "      <th>salary</th>\n",
       "    </tr>\n",
       "  </thead>\n",
       "  <tbody>\n",
       "    <tr>\n",
       "      <td>0</td>\n",
       "      <td>10001</td>\n",
       "      <td>88958</td>\n",
       "    </tr>\n",
       "    <tr>\n",
       "      <td>1</td>\n",
       "      <td>10002</td>\n",
       "      <td>72527</td>\n",
       "    </tr>\n",
       "    <tr>\n",
       "      <td>2</td>\n",
       "      <td>10003</td>\n",
       "      <td>43311</td>\n",
       "    </tr>\n",
       "    <tr>\n",
       "      <td>3</td>\n",
       "      <td>10004</td>\n",
       "      <td>74057</td>\n",
       "    </tr>\n",
       "    <tr>\n",
       "      <td>4</td>\n",
       "      <td>10005</td>\n",
       "      <td>94692</td>\n",
       "    </tr>\n",
       "  </tbody>\n",
       "</table>\n",
       "</div>"
      ],
      "text/plain": [
       "   emp_no  salary\n",
       "0   10001   88958\n",
       "1   10002   72527\n",
       "2   10003   43311\n",
       "3   10004   74057\n",
       "4   10005   94692"
      ]
     },
     "execution_count": 164,
     "metadata": {},
     "output_type": "execute_result"
    }
   ],
   "source": [
    "def get_db_url(db_name):\n",
    "    from env import host, user, password\n",
    "    url = f'mysql+pymysql://{user}:{password}@{host}/{db_name}'\n",
    "    return url\n",
    "query = ('''\n",
    "    SELECT  emp_no, \n",
    "    salary FROM salaries \n",
    "    WHERE to_date > CURDATE()\n",
    "    ''')\n",
    "salaries = pd.read_sql(query, get_db_url(\"employees\"))\n",
    "salaries.head()"
   ]
  },
  {
   "cell_type": "code",
   "execution_count": 169,
   "metadata": {},
   "outputs": [
    {
     "data": {
      "text/plain": [
       "(72012.23585730705, 17309.99538025198)"
      ]
     },
     "execution_count": 169,
     "metadata": {},
     "output_type": "execute_result"
    }
   ],
   "source": [
    "average_salaries = salaries.salary.mean()\n",
    "standard_deviation = salaries.salary.std()\n",
    "(average_salaries, standard_deviation)"
   ]
  },
  {
   "cell_type": "code",
   "execution_count": 172,
   "metadata": {},
   "outputs": [
    {
     "data": {
      "text/plain": [
       "(array([  11.,  108.,  629., 1775., 3027., 2678., 1342.,  361.,   62.,\n",
       "           7.]),\n",
       " array([  6010.23545464,  19735.20410693,  33460.17275921,  47185.1414115 ,\n",
       "         60910.11006378,  74635.07871607,  88360.04736835, 102085.01602064,\n",
       "        115809.98467292, 129534.95332521, 143259.9219775 ]),\n",
       " <a list of 10 Patch objects>)"
      ]
     },
     "execution_count": 172,
     "metadata": {},
     "output_type": "execute_result"
    },
    {
     "data": {
      "image/png": "[encoded data removed]",
      "text/plain": [
       "<Figure size 432x288 with 1 Axes>"
      ]
     },
     "metadata": {
      "needs_background": "light"
     },
     "output_type": "display_data"
    }
   ],
   "source": [
    "salaries = stats.norm(average_salaries, standard_deviation)\n",
    "plt.hist(salaries.rvs(10_000))"
   ]
  },
  {
   "cell_type": "code",
   "execution_count": 175,
   "metadata": {},
   "outputs": [
    {
     "data": {
      "text/plain": [
       "{'simulation': 0.24305, 'theoretical': 0.24385742480214423}"
      ]
     },
     "execution_count": 175,
     "metadata": {},
     "output_type": "execute_result"
    }
   ],
   "source": [
    "#1. What percent of employees earn less than 60,000?\n",
    "simu = (salaries.rvs(100_000) < 60_000).mean()\n",
    "theo = salaries.cdf(60_000)\n",
    "{\"simulation\": simu, \"theoretical\": theo}"
   ]
  },
  {
   "cell_type": "code",
   "execution_count": 176,
   "metadata": {},
   "outputs": [
    {
     "data": {
      "text/plain": [
       "{'simulation': 0.09222, 'theoretical': 0.09208819199804053}"
      ]
     },
     "execution_count": 176,
     "metadata": {},
     "output_type": "execute_result"
    }
   ],
   "source": [
    "#2. What percent of employees earn more than 95,000?\n",
    "simu = (salaries.rvs(100_000) > 95_000).mean()\n",
    "theo = salaries.sf(95_000)\n",
    "{\"simulation\": simu, \"theoretical\": theo}"
   ]
  },
  {
   "cell_type": "code",
   "execution_count": 180,
   "metadata": {},
   "outputs": [
    {
     "data": {
      "text/plain": [
       "{'simulation': 0.33521, 'theoretical': 0.3350605685446666}"
      ]
     },
     "execution_count": 180,
     "metadata": {},
     "output_type": "execute_result"
    }
   ],
   "source": [
    "#3. what percent of employees earn between 65,000 and 80,000?\n",
    "salaries_in_array = salaries.rvs(100_000)\n",
    "simu = ((salaries_in_array > 65_000) & (salaries_in_array < 80_000)).mean()\n",
    "theo = salaries.cdf(80_000) - salaries.cdf(65_000)\n",
    "{\"simulation\": simu, \"theoretical\": theo}"
   ]
  },
  {
   "cell_type": "code",
   "execution_count": null,
   "metadata": {},
   "outputs": [],
   "source": []
  }
 ],
 "metadata": {
  "kernelspec": {
   "display_name": "Python 3",
   "language": "python",
   "name": "python3"
  },
  "language_info": {
   "codemirror_mode": {
    "name": "ipython",
    "version": 3
   },
   "file_extension": ".py",
   "mimetype": "text/x-python",
   "name": "python",
   "nbconvert_exporter": "python",
   "pygments_lexer": "ipython3",
   "version": "3.7.4"
  }
 },
 "nbformat": 4,
 "nbformat_minor": 2
}
