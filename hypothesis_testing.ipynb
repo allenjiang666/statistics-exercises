{
 "cells": [
  {
   "cell_type": "markdown",
   "metadata": {},
   "source": [
    "# Hypothesis Testing Exercises\n",
    "For each of the following questions, formulate a null and alternative hypothesis (be as specific as you can be), then give an example of what a true positive, true negative, type I and type II errors would look like. Note that some of the questions are intentionally phrased in a vague way. It is your job to reword these as more precise questions that could be tested.\n"
   ]
  },
  {
   "cell_type": "markdown",
   "metadata": {},
   "source": [
    "## Exercise 1\n",
    "> **Has the network latency gone up since we switched internet service providers?**"
   ]
  },
  {
   "cell_type": "markdown",
   "metadata": {},
   "source": [
    "**Data**: Average latency before and after we switch\n",
    "- $H_0$: There is no difference in latency between both providers\n",
    "- $H_a$: The latency gets shorter after we switch"
   ]
  },
  {
   "cell_type": "markdown",
   "metadata": {},
   "source": [
    "- **True Positive**\n",
    "    - small p-value --> the probability of $H_0$ is true is low. \n",
    "    - reject $H_0$\n",
    "    - before switching the average latency is 230ms\n",
    "    - after switching the average latency is 80ms\n",
    "\n",
    "- **False Positive**\n",
    "    - small p-value\n",
    "    - reject $H-0$\n",
    "    - before switching the average latency is 230ms\n",
    "    - after switching the average latency is 80ms\n",
    "    - We tested latency at different time period, one is at rush hour, the other one is tested at midnight\n",
    "- **True Negative**\n",
    "    - higher p -value\n",
    "    - fail to reject $H_0$\n",
    "    - before switching the average latency is 230ms\n",
    "    - after switching the average latency is 200ms\n",
    "- **False Negative**\n",
    "    - higher p -value\n",
    "    - fail to reject $H_0$\n",
    "    - before switching the average latency is 230ms\n",
    "    - after switching the average latency is 200ms\n",
    "    - when testing there are different number of other applications running at the same time"
   ]
  },
  {
   "cell_type": "markdown",
   "metadata": {},
   "source": [
    "## Exercise 2\n",
    "> **Is the website redesign any good?**"
   ]
  },
  {
   "cell_type": "markdown",
   "metadata": {},
   "source": [
    "**Data**: traffic of the website\n",
    "- $H_0$: there is no difference after the website was redesigned\n",
    "- $H_a$: there is a  increase in traffic after the website was redesigned "
   ]
  },
  {
   "cell_type": "markdown",
   "metadata": {},
   "source": [
    "- **True Positive**\n",
    "    - low p_ value\n",
    "    - reject $H_0$\n",
    "    - before redesign, the traffic was 4000 visitors per day\n",
    "    - after redesign, the traffic is 6000 visitors per day\n",
    "- **False Positive**\n",
    "    - low p_ value\n",
    "    - reject $H_0$\n",
    "    - before redesign, the traffic was 4000 visitors per day\n",
    "    - after redesign, the traffic is 6000 visitors per day\n",
    "    - they somehow increase the quality of the context in the website\n",
    "- **True Negative**\n",
    "    - high p-value\n",
    "    - fail to reject $H_0$\n",
    "    - before redesign, the traffic was 4000 visitors per day\n",
    "    - after redesign, the traffic is 4100 visitors per day\n",
    "- **False Negative**\n",
    "    - high p-value\n",
    "    - fail to reject $H_0$\n",
    "    - before redesign, the traffic was 4000 visitors per day\n",
    "    - after redesign, the traffic is 4100 visitors per day\n",
    "    - they add more ads in the website."
   ]
  },
  {
   "cell_type": "markdown",
   "metadata": {},
   "source": [
    "## Exercise 3\n",
    "> Is our television ad driving more sales?"
   ]
  },
  {
   "cell_type": "markdown",
   "metadata": {},
   "source": [
    "**data**: number of sales\n",
    "- $H_0$: the number of sales remain the same after the ad is the air\n",
    "- $H_a$: the number of sales increase after the ad is the air"
   ]
  },
  {
   "cell_type": "markdown",
   "metadata": {},
   "source": [
    "- **True Positive**\n",
    "    - low p_ value\n",
    "    - reject $H_0$\n",
    "    - before the ad is in the air, the sales was 300 per month\n",
    "    - after the ad is in the air, the sales is 500 per month\n",
    "- **False Positive**\n",
    "    - low p_ value\n",
    "    - reject $H_0$\n",
    "    - before the ad is in the air, the sales was 300 per month\n",
    "    - after the ad is in the air, the sales is 500 per month\n",
    "    - the manfacture update some feature of the data\n",
    "- **True Negative**\n",
    "    - high p-value\n",
    "    - fail to reject $H_0$\n",
    "    - before the ad is in the air, the sales was 300 per month\n",
    "    - after the ad is in the air, the sales is 310 per month\n",
    "- **False Negative**\n",
    "    - high p-value\n",
    "    - fail to reject $H_0$\n",
    "    - before the ad is in the air, the sales was 300 per month\n",
    "    - after the ad is in the air, the sales is 310 per month\n",
    "    - some salse person quit their jobs."
   ]
  },
  {
   "cell_type": "markdown",
   "metadata": {},
   "source": [
    "## Mini Exercise 1 \n",
    "> Are the average grades in web development vs data science classes different? "
   ]
  },
  {
   "cell_type": "markdown",
   "metadata": {},
   "source": [
    "**Data**: average grades\n",
    "- $H_0$: there is no difference between two classes\n",
    "- $H_a$: data science class has higher average grades than web development class."
   ]
  },
  {
   "cell_type": "markdown",
   "metadata": {},
   "source": [
    "- **True Positive**\n",
    "    - low p_ value\n",
    "    - reject $H_0$\n",
    "    - the average grade for data science is 90\n",
    "    - the average grade for data science is 83\n",
    "- **False Positive**\n",
    "    - low p_ value\n",
    "    - reject $H_0$\n",
    "    - the average grade for data science is 90\n",
    "    - the average grade for data science is 83\n",
    "    - the there are more students in data science has a college degree\n",
    "- **True Negative**\n",
    "    - high p-value\n",
    "    - fail to reject $H_0$\n",
    "    - the average grade for data science is 95\n",
    "    - the average grade for data science is 83\n",
    "- **False Negative**\n",
    "    - high p-value\n",
    "    - fail to reject $H_0$\n",
    "    - the average grade for data science is 95\n",
    "    - the average grade for data science is 83\n",
    "    - some of the students from data science skipped class for several times"
   ]
  },
  {
   "cell_type": "markdown",
   "metadata": {},
   "source": [
    "## Mini Exercise 2\n",
    "> Is there a relationship between how early a student shows up to class and their grade? "
   ]
  },
  {
   "cell_type": "markdown",
   "metadata": {},
   "source": [
    "**Data**: average grades and time they showup before class begin\n",
    "- $H_0$: there is no difference between students showup early and student show up late\n",
    "- $H_a$: students showup earler has higher grades than students showup late"
   ]
  },
  {
   "cell_type": "markdown",
   "metadata": {},
   "source": [
    "- **True Positive**\n",
    "    - low p_ value\n",
    "    - reject $H_0$\n",
    "    - the average grade for student showup 15 mins earlier is 90\n",
    "    - the average grade for student showup not 15 mins earlier is 82\n",
    "- **False Positive**\n",
    "    - low p_ value\n",
    "    - reject $H_0$\n",
    "    - the average grade for student showup 15 mins earlier is 90\n",
    "    - the average grade for student showup not 15 mins earlier is 82\n",
    "    - some students showup early study extra hours after school.\n",
    "- **True Negative**\n",
    "    - high p-value\n",
    "    - fail to reject $H_0$\n",
    "    - the average grade for student showup 15 mins earlier is 90\n",
    "    - the average grade for student showup not 15 mins earlier is 89\n",
    "- **False Negative**\n",
    "    - high p-value\n",
    "    - fail to reject $H_0$\n",
    "    - the average grade for student showup 15 mins earlier is 90\n",
    "    - the average grade for student showup not 15 mins earlier is 89\n",
    "    - some students showup late study extra hours after school"
   ]
  },
  {
   "cell_type": "markdown",
   "metadata": {},
   "source": [
    "## Mini Exercise 3\n",
    "> Are web dev or data science students more likely to be coffee drinkers? "
   ]
  },
  {
   "cell_type": "markdown",
   "metadata": {},
   "source": [
    "**Data**: average coffee comsumption between two classes\n",
    "- $H_0$: there is no difference between two classes\n",
    "- $H_a$: data science class drink more coffee than web development class."
   ]
  },
  {
   "cell_type": "markdown",
   "metadata": {},
   "source": [
    "- **True Positive**\n",
    "    - low p_ value\n",
    "    - reject $H_0$\n",
    "    - the average coffee consumption for data science is 2 cups per person\n",
    "    - the average coffee consumption for wed development is 4 cups per person\n",
    "- **False Positive**\n",
    "    - low p_ value\n",
    "    - reject $H_0$\n",
    "    - the average coffee consumption for data science is 2 cups per person\n",
    "    - the average coffee consumption for wed development is 4 cups per person\n",
    "    - the web develpment class is closer to the coffee machine\n",
    "- **True Negative**\n",
    "    - high p-value\n",
    "    - fail to reject $H_0$\n",
    "    - the average coffee consumption for data science is 3 cups per person\n",
    "    - the average coffee consumption for wed development is 3.5 cups per person\n",
    "- **False Negative**\n",
    "    - high p-value\n",
    "    - fail to reject $H_0$\n",
    "    - the average coffee consumption for data science is 3 cups per person\n",
    "    - the average coffee consumption for wed development is 3.5 cups per person\n",
    "    - some student of the web develpment buy coffee from the barkery downstairs"
   ]
  },
  {
   "cell_type": "markdown",
   "metadata": {},
   "source": [
    "# T -test Exercises"
   ]
  },
  {
   "cell_type": "code",
   "execution_count": 60,
   "metadata": {},
   "outputs": [],
   "source": [
    "import pandas as pd \n",
    "import numpy as np\n",
    "from scipy import stats\n",
    "from math import sqrt"
   ]
  },
  {
   "cell_type": "markdown",
   "metadata": {},
   "source": [
    "## Exercise 1 \n",
    "Ace Realty wants to determine whether the average time it takes to sell homes is different for its two offices. A sample of 40 sales from office #1 revealed a mean of 90 days and a standard deviation of 15 days. A sample of 50 sales from office #2 revealed a mean of 100 days and a standard deviation of 20 days. Use a .05 level of significance."
   ]
  },
  {
   "cell_type": "markdown",
   "metadata": {},
   "source": [
    "- $H_0$: There is no difference in average time to sell homes for boths offices\n",
    "- $H_a$: There is a dfference in average time to sell homes for boths offices\n"
   ]
  },
  {
   "cell_type": "code",
   "execution_count": 18,
   "metadata": {},
   "outputs": [],
   "source": [
    "alpha = .05\n",
    "x1 = stats.norm(90, 15).rvs(40)\n",
    "x2 = stats.norm(100, 20).rvs(50)\n",
    "xbar1 = x1.mean()\n",
    "xbar2 = x2.mean()\n",
    "\n",
    "n1 = x1.shape[0]\n",
    "n2 = x2.shape[0]\n",
    "\n",
    "s1 = x1.std()\n",
    "s2 = x2.std()\n",
    "\n",
    "degf = (n1 + n2) - 2 # n - number of categories\n",
    "\n",
    "s_p = sqrt(\n",
    "    ((n1 - 1) * s1**2 + (n2 - 1) * s2**2)\n",
    "    /\n",
    "    (n1 + n2 - 2)\n",
    ")\n",
    "\n",
    "t = (xbar1 - xbar2) / (s_p * sqrt(1 / n1 + 1 / n2))"
   ]
  },
  {
   "cell_type": "code",
   "execution_count": 19,
   "metadata": {},
   "outputs": [
    {
     "data": {
      "text/plain": [
       "-2.9981371440307303"
      ]
     },
     "execution_count": 19,
     "metadata": {},
     "output_type": "execute_result"
    }
   ],
   "source": [
    "t"
   ]
  },
  {
   "cell_type": "code",
   "execution_count": 55,
   "metadata": {},
   "outputs": [
    {
     "data": {
      "text/plain": [
       "0.003530656898974799"
      ]
     },
     "execution_count": 55,
     "metadata": {},
     "output_type": "execute_result"
    }
   ],
   "source": [
    "p = stats.t(degf).cdf(t) * 2\n",
    "p"
   ]
  },
  {
   "cell_type": "code",
   "execution_count": 21,
   "metadata": {},
   "outputs": [
    {
     "data": {
      "text/plain": [
       "Ttest_indResult(statistic=-2.96615582146002, pvalue=0.00388153419236683)"
      ]
     },
     "execution_count": 21,
     "metadata": {},
     "output_type": "execute_result"
    }
   ],
   "source": [
    "stats.ttest_ind(x1, x2)"
   ]
  },
  {
   "cell_type": "code",
   "execution_count": 39,
   "metadata": {},
   "outputs": [
    {
     "name": "stdout",
     "output_type": "stream",
     "text": [
      "\n",
      "Because p(0.5709) > alpha(0.05), so We  reject $H_0$, There is a difference for two offices of their \n",
      "average time selling houses.)  \n",
      "\n"
     ]
    }
   ],
   "source": [
    "print(f'''\n",
    "Because p({p:.4f}) > alpha({alpha}), so We  reject $H_0$, There is a difference for two offices of their \n",
    "average time selling houses.)  \n",
    "''')"
   ]
  },
  {
   "cell_type": "markdown",
   "metadata": {},
   "source": [
    "## Exercise 2\n",
    "Load the mpg dataset and use it to answer the following questions:"
   ]
  },
  {
   "cell_type": "code",
   "execution_count": 37,
   "metadata": {},
   "outputs": [
    {
     "data": {
      "text/html": [
       "<div>\n",
       "<style scoped>\n",
       "    .dataframe tbody tr th:only-of-type {\n",
       "        vertical-align: middle;\n",
       "    }\n",
       "\n",
       "    .dataframe tbody tr th {\n",
       "        vertical-align: top;\n",
       "    }\n",
       "\n",
       "    .dataframe thead th {\n",
       "        text-align: right;\n",
       "    }\n",
       "</style>\n",
       "<table border=\"1\" class=\"dataframe\">\n",
       "  <thead>\n",
       "    <tr style=\"text-align: right;\">\n",
       "      <th></th>\n",
       "      <th>manufacturer</th>\n",
       "      <th>model</th>\n",
       "      <th>displ</th>\n",
       "      <th>year</th>\n",
       "      <th>cyl</th>\n",
       "      <th>trans</th>\n",
       "      <th>drv</th>\n",
       "      <th>cty</th>\n",
       "      <th>hwy</th>\n",
       "      <th>fl</th>\n",
       "      <th>class</th>\n",
       "    </tr>\n",
       "  </thead>\n",
       "  <tbody>\n",
       "    <tr>\n",
       "      <td>1</td>\n",
       "      <td>audi</td>\n",
       "      <td>a4</td>\n",
       "      <td>1.8</td>\n",
       "      <td>1999</td>\n",
       "      <td>4</td>\n",
       "      <td>auto(l5)</td>\n",
       "      <td>f</td>\n",
       "      <td>18</td>\n",
       "      <td>29</td>\n",
       "      <td>p</td>\n",
       "      <td>compact</td>\n",
       "    </tr>\n",
       "    <tr>\n",
       "      <td>2</td>\n",
       "      <td>audi</td>\n",
       "      <td>a4</td>\n",
       "      <td>1.8</td>\n",
       "      <td>1999</td>\n",
       "      <td>4</td>\n",
       "      <td>manual(m5)</td>\n",
       "      <td>f</td>\n",
       "      <td>21</td>\n",
       "      <td>29</td>\n",
       "      <td>p</td>\n",
       "      <td>compact</td>\n",
       "    </tr>\n",
       "    <tr>\n",
       "      <td>3</td>\n",
       "      <td>audi</td>\n",
       "      <td>a4</td>\n",
       "      <td>2.0</td>\n",
       "      <td>2008</td>\n",
       "      <td>4</td>\n",
       "      <td>manual(m6)</td>\n",
       "      <td>f</td>\n",
       "      <td>20</td>\n",
       "      <td>31</td>\n",
       "      <td>p</td>\n",
       "      <td>compact</td>\n",
       "    </tr>\n",
       "    <tr>\n",
       "      <td>4</td>\n",
       "      <td>audi</td>\n",
       "      <td>a4</td>\n",
       "      <td>2.0</td>\n",
       "      <td>2008</td>\n",
       "      <td>4</td>\n",
       "      <td>auto(av)</td>\n",
       "      <td>f</td>\n",
       "      <td>21</td>\n",
       "      <td>30</td>\n",
       "      <td>p</td>\n",
       "      <td>compact</td>\n",
       "    </tr>\n",
       "    <tr>\n",
       "      <td>5</td>\n",
       "      <td>audi</td>\n",
       "      <td>a4</td>\n",
       "      <td>2.8</td>\n",
       "      <td>1999</td>\n",
       "      <td>6</td>\n",
       "      <td>auto(l5)</td>\n",
       "      <td>f</td>\n",
       "      <td>16</td>\n",
       "      <td>26</td>\n",
       "      <td>p</td>\n",
       "      <td>compact</td>\n",
       "    </tr>\n",
       "  </tbody>\n",
       "</table>\n",
       "</div>"
      ],
      "text/plain": [
       "  manufacturer model  displ  year  cyl       trans drv  cty  hwy fl    class\n",
       "1         audi    a4    1.8  1999    4    auto(l5)   f   18   29  p  compact\n",
       "2         audi    a4    1.8  1999    4  manual(m5)   f   21   29  p  compact\n",
       "3         audi    a4    2.0  2008    4  manual(m6)   f   20   31  p  compact\n",
       "4         audi    a4    2.0  2008    4    auto(av)   f   21   30  p  compact\n",
       "5         audi    a4    2.8  1999    6    auto(l5)   f   16   26  p  compact"
      ]
     },
     "execution_count": 37,
     "metadata": {},
     "output_type": "execute_result"
    }
   ],
   "source": [
    "from pydataset import data\n",
    "mpg = data('mpg')\n",
    "mpg.head()"
   ]
  },
  {
   "cell_type": "markdown",
   "metadata": {},
   "source": [
    "1. Is there a difference in fuel-efficiency in cars from 2008 vs 1999?"
   ]
  },
  {
   "cell_type": "markdown",
   "metadata": {},
   "source": [
    "- $H_0$: There is no difference in fuel-efficiency in cars from 2008 vs 1999"
   ]
  },
  {
   "cell_type": "code",
   "execution_count": 35,
   "metadata": {
    "scrolled": false
   },
   "outputs": [],
   "source": [
    "x1 = mpg[mpg.year == 1999].cty\n",
    "x2 = mpg[mpg.year == 2008].cty\n",
    "stats.ttest_ind(x1, x2)\n",
    "s_stat, p = stats.ttest_ind(x1, x2)"
   ]
  },
  {
   "cell_type": "code",
   "execution_count": 56,
   "metadata": {},
   "outputs": [
    {
     "name": "stdout",
     "output_type": "stream",
     "text": [
      "\n",
      "Because p(0.0035) > alpha(0.05), so We reject $H_0$, There is no\n",
      "difference in fuel-efficiency in cars from 2008 vs 1999.)  \n",
      "\n"
     ]
    }
   ],
   "source": [
    "print(f'''\n",
    "Because p({p:.4f}) > alpha({alpha}), so We reject $H_0$, There is no\n",
    "difference in fuel-efficiency in cars from 2008 vs 1999.)  \n",
    "''')"
   ]
  },
  {
   "cell_type": "markdown",
   "metadata": {},
   "source": [
    "2. Are compact cars more fuel-efficient than the average car?"
   ]
  },
  {
   "cell_type": "markdown",
   "metadata": {},
   "source": [
    "- $H_0$: There is no difference in fuel-efficiency from compact cars and all the cars"
   ]
  },
  {
   "cell_type": "code",
   "execution_count": 43,
   "metadata": {},
   "outputs": [
    {
     "name": "stdout",
     "output_type": "stream",
     "text": [
      "t = 6.62\n",
      "p = 3.4e-08\n"
     ]
    }
   ],
   "source": [
    "x = mpg[mpg['class'] == 'compact'].cty\n",
    "mu = mpg.cty.mean()\n",
    "t_stat, p = stats.ttest_1samp(x, mu)\n",
    "\n",
    "print(f't = {t_stat:.3}')\n",
    "print(f'p = {p:.3}')"
   ]
  },
  {
   "cell_type": "code",
   "execution_count": 47,
   "metadata": {},
   "outputs": [
    {
     "name": "stdout",
     "output_type": "stream",
     "text": [
      "\n",
      "Because p(0.00000003) < alpha(0.05), so We reject $H_0$, There is no\n",
      "difference in fuel-efficiency in cars from 2008 vs 1999.)  \n",
      "\n"
     ]
    }
   ],
   "source": [
    "print(f'''\n",
    "Because p({p:.8f}) < alpha({alpha}), so We reject $H_0$, There is no\n",
    "difference in fuel-efficiency in cars from 2008 vs 1999.)  \n",
    "''')"
   ]
  },
  {
   "cell_type": "markdown",
   "metadata": {},
   "source": [
    "3. Do manual cars get better gas mileage than automatic cars?"
   ]
  },
  {
   "cell_type": "markdown",
   "metadata": {},
   "source": [
    "- $H_0$: There is no difference in fuel-efficiency in cars with auto transmission and manual transmission"
   ]
  },
  {
   "cell_type": "code",
   "execution_count": 53,
   "metadata": {
    "scrolled": false
   },
   "outputs": [
    {
     "name": "stdout",
     "output_type": "stream",
     "text": [
      "t = 6.62\n",
      "p = 3.4e-08\n"
     ]
    }
   ],
   "source": [
    "x1 = mpg[mpg.trans.str.contains('auto')].cty\n",
    "x2 = mpg[mpg.trans.str.contains('manual')].cty\n",
    "t_stat, p = stats.ttest_1samp(x, mu)\n",
    "\n",
    "print(f't = {t_stat:.3}')\n",
    "print(f'p = {p:.3}')"
   ]
  },
  {
   "cell_type": "code",
   "execution_count": 54,
   "metadata": {},
   "outputs": [
    {
     "name": "stdout",
     "output_type": "stream",
     "text": [
      "\n",
      "Because p(0.00000003) < alpha(0.05), so We reject $H_0$, There is a huge \n",
      "difference in fuel-efficiency in cars from 2008 vs 1999.)  \n",
      "\n"
     ]
    }
   ],
   "source": [
    "print(f'''\n",
    "Because p({p:.8f}) < alpha({alpha}), so We reject $H_0$, There is a huge \n",
    "difference in fuel-efficiency in cars from 2008 vs 1999.)  \n",
    "''')"
   ]
  },
  {
   "cell_type": "code",
   "execution_count": null,
   "metadata": {},
   "outputs": [],
   "source": []
  },
  {
   "cell_type": "markdown",
   "metadata": {},
   "source": [
    "# Correlation Exercises"
   ]
  },
  {
   "cell_type": "markdown",
   "metadata": {},
   "source": [
    "## Exercise 1\n",
    "Use the telco_churn data. Does tenure correlate with monthly charges? Total charges? What happens if you control for phone and internet service?"
   ]
  },
  {
   "cell_type": "code",
   "execution_count": 252,
   "metadata": {
    "scrolled": true
   },
   "outputs": [
    {
     "data": {
      "text/html": [
       "<div>\n",
       "<style scoped>\n",
       "    .dataframe tbody tr th:only-of-type {\n",
       "        vertical-align: middle;\n",
       "    }\n",
       "\n",
       "    .dataframe tbody tr th {\n",
       "        vertical-align: top;\n",
       "    }\n",
       "\n",
       "    .dataframe thead th {\n",
       "        text-align: right;\n",
       "    }\n",
       "</style>\n",
       "<table border=\"1\" class=\"dataframe\">\n",
       "  <thead>\n",
       "    <tr style=\"text-align: right;\">\n",
       "      <th></th>\n",
       "      <th>tenure</th>\n",
       "      <th>monthly_charges</th>\n",
       "      <th>total_charges</th>\n",
       "      <th>phone_service</th>\n",
       "      <th>internet_service_type_id</th>\n",
       "      <th>churn</th>\n",
       "    </tr>\n",
       "  </thead>\n",
       "  <tbody>\n",
       "    <tr>\n",
       "      <td>807</td>\n",
       "      <td>28</td>\n",
       "      <td>90.45</td>\n",
       "      <td>2509.25</td>\n",
       "      <td>Yes</td>\n",
       "      <td>2</td>\n",
       "      <td>No</td>\n",
       "    </tr>\n",
       "    <tr>\n",
       "      <td>2363</td>\n",
       "      <td>5</td>\n",
       "      <td>94.85</td>\n",
       "      <td>462.8</td>\n",
       "      <td>Yes</td>\n",
       "      <td>2</td>\n",
       "      <td>Yes</td>\n",
       "    </tr>\n",
       "    <tr>\n",
       "      <td>6153</td>\n",
       "      <td>61</td>\n",
       "      <td>103.30</td>\n",
       "      <td>6518.35</td>\n",
       "      <td>Yes</td>\n",
       "      <td>2</td>\n",
       "      <td>No</td>\n",
       "    </tr>\n",
       "    <tr>\n",
       "      <td>3236</td>\n",
       "      <td>9</td>\n",
       "      <td>88.40</td>\n",
       "      <td>788.6</td>\n",
       "      <td>Yes</td>\n",
       "      <td>2</td>\n",
       "      <td>No</td>\n",
       "    </tr>\n",
       "    <tr>\n",
       "      <td>4408</td>\n",
       "      <td>22</td>\n",
       "      <td>55.15</td>\n",
       "      <td>1206.05</td>\n",
       "      <td>Yes</td>\n",
       "      <td>1</td>\n",
       "      <td>Yes</td>\n",
       "    </tr>\n",
       "    <tr>\n",
       "      <td>4903</td>\n",
       "      <td>72</td>\n",
       "      <td>117.35</td>\n",
       "      <td>8436.25</td>\n",
       "      <td>Yes</td>\n",
       "      <td>2</td>\n",
       "      <td>No</td>\n",
       "    </tr>\n",
       "    <tr>\n",
       "      <td>6804</td>\n",
       "      <td>45</td>\n",
       "      <td>115.65</td>\n",
       "      <td>5125.5</td>\n",
       "      <td>Yes</td>\n",
       "      <td>2</td>\n",
       "      <td>No</td>\n",
       "    </tr>\n",
       "    <tr>\n",
       "      <td>4089</td>\n",
       "      <td>9</td>\n",
       "      <td>59.50</td>\n",
       "      <td>530.05</td>\n",
       "      <td>Yes</td>\n",
       "      <td>1</td>\n",
       "      <td>No</td>\n",
       "    </tr>\n",
       "    <tr>\n",
       "      <td>335</td>\n",
       "      <td>1</td>\n",
       "      <td>79.70</td>\n",
       "      <td>79.7</td>\n",
       "      <td>Yes</td>\n",
       "      <td>2</td>\n",
       "      <td>Yes</td>\n",
       "    </tr>\n",
       "    <tr>\n",
       "      <td>4679</td>\n",
       "      <td>47</td>\n",
       "      <td>109.55</td>\n",
       "      <td>5124.55</td>\n",
       "      <td>Yes</td>\n",
       "      <td>2</td>\n",
       "      <td>Yes</td>\n",
       "    </tr>\n",
       "  </tbody>\n",
       "</table>\n",
       "</div>"
      ],
      "text/plain": [
       "      tenure  monthly_charges total_charges phone_service  \\\n",
       "807       28            90.45       2509.25           Yes   \n",
       "2363       5            94.85         462.8           Yes   \n",
       "6153      61           103.30       6518.35           Yes   \n",
       "3236       9            88.40         788.6           Yes   \n",
       "4408      22            55.15       1206.05           Yes   \n",
       "4903      72           117.35       8436.25           Yes   \n",
       "6804      45           115.65        5125.5           Yes   \n",
       "4089       9            59.50        530.05           Yes   \n",
       "335        1            79.70          79.7           Yes   \n",
       "4679      47           109.55       5124.55           Yes   \n",
       "\n",
       "      internet_service_type_id churn  \n",
       "807                          2    No  \n",
       "2363                         2   Yes  \n",
       "6153                         2    No  \n",
       "3236                         2    No  \n",
       "4408                         1   Yes  \n",
       "4903                         2    No  \n",
       "6804                         2    No  \n",
       "4089                         1    No  \n",
       "335                          2   Yes  \n",
       "4679                         2   Yes  "
      ]
     },
     "execution_count": 252,
     "metadata": {},
     "output_type": "execute_result"
    }
   ],
   "source": [
    "def get_db_url(db_name):\n",
    "    from env import host, user, password\n",
    "    url = f'mysql+pymysql://{user}:{password}@{host}/{db_name}'\n",
    "    return url\n",
    "query = ('''\n",
    "    SELECT  tenure, monthly_charges, total_charges, phone_service, internet_service_type_id, churn\n",
    "    FROM customers \n",
    "    ''')\n",
    "telco_churn = pd.read_sql(query, get_db_url(\"telco_churn\"))\n",
    "telco_churn.sample(10)"
   ]
  },
  {
   "cell_type": "code",
   "execution_count": 254,
   "metadata": {},
   "outputs": [],
   "source": [
    "#drop the bad data from total changes and change it to float\n",
    "telco_churn = telco_churn.sort_values(by='total_charges')\n",
    "telco_churn = telco_churn.iloc[11:]\n",
    "telco_churn.total_charges = telco_churn.total_charges.astype(\"float\")"
   ]
  },
  {
   "cell_type": "code",
   "execution_count": 255,
   "metadata": {},
   "outputs": [
    {
     "name": "stdout",
     "output_type": "stream",
     "text": [
      "r= 0.24688016466672574\n",
      "p= 5.453865695034659e-98\n"
     ]
    }
   ],
   "source": [
    "#tenure vs monthly_charges\n",
    "x = telco_churn.monthly_charges\n",
    "y = telco_churn.tenure\n",
    "r, p = stats.pearsonr(x, y)\n",
    "print('r=', r)\n",
    "print('p=', p)"
   ]
  },
  {
   "cell_type": "code",
   "execution_count": 256,
   "metadata": {},
   "outputs": [
    {
     "name": "stdout",
     "output_type": "stream",
     "text": [
      "r= 0.8256673261387772\n",
      "p= 0.0\n"
     ]
    }
   ],
   "source": [
    "#tenure vs total_charges\n",
    "x = telco_churn.total_charges\n",
    "y = telco_churn.tenure\n",
    "r, p = stats.pearsonr(x, y)\n",
    "print('r=', r)\n",
    "print('p=', p)"
   ]
  },
  {
   "cell_type": "code",
   "execution_count": 250,
   "metadata": {},
   "outputs": [
    {
     "data": {
      "text/html": [
       "<div>\n",
       "<style scoped>\n",
       "    .dataframe tbody tr th:only-of-type {\n",
       "        vertical-align: middle;\n",
       "    }\n",
       "\n",
       "    .dataframe tbody tr th {\n",
       "        vertical-align: top;\n",
       "    }\n",
       "\n",
       "    .dataframe thead th {\n",
       "        text-align: right;\n",
       "    }\n",
       "</style>\n",
       "<table border=\"1\" class=\"dataframe\">\n",
       "  <thead>\n",
       "    <tr style=\"text-align: right;\">\n",
       "      <th></th>\n",
       "      <th>tenure</th>\n",
       "      <th>monthly_charges</th>\n",
       "      <th>total_charges</th>\n",
       "      <th>phone_service</th>\n",
       "      <th>internet_service_type_id</th>\n",
       "      <th>churn</th>\n",
       "    </tr>\n",
       "  </thead>\n",
       "  <tbody>\n",
       "    <tr>\n",
       "      <td>4465</td>\n",
       "      <td>19</td>\n",
       "      <td>58.20</td>\n",
       "      <td>1045.25</td>\n",
       "      <td>Yes</td>\n",
       "      <td>1</td>\n",
       "      <td>No</td>\n",
       "    </tr>\n",
       "    <tr>\n",
       "      <td>5895</td>\n",
       "      <td>19</td>\n",
       "      <td>55.00</td>\n",
       "      <td>1046.50</td>\n",
       "      <td>Yes</td>\n",
       "      <td>1</td>\n",
       "      <td>Yes</td>\n",
       "    </tr>\n",
       "    <tr>\n",
       "      <td>3870</td>\n",
       "      <td>22</td>\n",
       "      <td>49.80</td>\n",
       "      <td>1049.05</td>\n",
       "      <td>Yes</td>\n",
       "      <td>1</td>\n",
       "      <td>No</td>\n",
       "    </tr>\n",
       "    <tr>\n",
       "      <td>3815</td>\n",
       "      <td>2</td>\n",
       "      <td>45.85</td>\n",
       "      <td>105.60</td>\n",
       "      <td>Yes</td>\n",
       "      <td>1</td>\n",
       "      <td>No</td>\n",
       "    </tr>\n",
       "    <tr>\n",
       "      <td>5429</td>\n",
       "      <td>22</td>\n",
       "      <td>48.80</td>\n",
       "      <td>1054.60</td>\n",
       "      <td>Yes</td>\n",
       "      <td>1</td>\n",
       "      <td>Yes</td>\n",
       "    </tr>\n",
       "    <tr>\n",
       "      <td>...</td>\n",
       "      <td>...</td>\n",
       "      <td>...</td>\n",
       "      <td>...</td>\n",
       "      <td>...</td>\n",
       "      <td>...</td>\n",
       "      <td>...</td>\n",
       "    </tr>\n",
       "    <tr>\n",
       "      <td>1461</td>\n",
       "      <td>13</td>\n",
       "      <td>75.30</td>\n",
       "      <td>989.45</td>\n",
       "      <td>Yes</td>\n",
       "      <td>1</td>\n",
       "      <td>Yes</td>\n",
       "    </tr>\n",
       "    <tr>\n",
       "      <td>3287</td>\n",
       "      <td>18</td>\n",
       "      <td>57.45</td>\n",
       "      <td>990.85</td>\n",
       "      <td>Yes</td>\n",
       "      <td>1</td>\n",
       "      <td>Yes</td>\n",
       "    </tr>\n",
       "    <tr>\n",
       "      <td>3133</td>\n",
       "      <td>18</td>\n",
       "      <td>57.65</td>\n",
       "      <td>992.70</td>\n",
       "      <td>Yes</td>\n",
       "      <td>1</td>\n",
       "      <td>No</td>\n",
       "    </tr>\n",
       "    <tr>\n",
       "      <td>5284</td>\n",
       "      <td>15</td>\n",
       "      <td>64.65</td>\n",
       "      <td>994.55</td>\n",
       "      <td>Yes</td>\n",
       "      <td>1</td>\n",
       "      <td>Yes</td>\n",
       "    </tr>\n",
       "    <tr>\n",
       "      <td>2065</td>\n",
       "      <td>13</td>\n",
       "      <td>78.75</td>\n",
       "      <td>995.35</td>\n",
       "      <td>Yes</td>\n",
       "      <td>1</td>\n",
       "      <td>No</td>\n",
       "    </tr>\n",
       "  </tbody>\n",
       "</table>\n",
       "<p>1724 rows × 6 columns</p>\n",
       "</div>"
      ],
      "text/plain": [
       "      tenure  monthly_charges  total_charges phone_service  \\\n",
       "4465      19            58.20        1045.25           Yes   \n",
       "5895      19            55.00        1046.50           Yes   \n",
       "3870      22            49.80        1049.05           Yes   \n",
       "3815       2            45.85         105.60           Yes   \n",
       "5429      22            48.80        1054.60           Yes   \n",
       "...      ...              ...            ...           ...   \n",
       "1461      13            75.30         989.45           Yes   \n",
       "3287      18            57.45         990.85           Yes   \n",
       "3133      18            57.65         992.70           Yes   \n",
       "5284      15            64.65         994.55           Yes   \n",
       "2065      13            78.75         995.35           Yes   \n",
       "\n",
       "      internet_service_type_id churn  \n",
       "4465                         1    No  \n",
       "5895                         1   Yes  \n",
       "3870                         1    No  \n",
       "3815                         1    No  \n",
       "5429                         1   Yes  \n",
       "...                        ...   ...  \n",
       "1461                         1   Yes  \n",
       "3287                         1   Yes  \n",
       "3133                         1    No  \n",
       "5284                         1   Yes  \n",
       "2065                         1    No  \n",
       "\n",
       "[1724 rows x 6 columns]"
      ]
     },
     "execution_count": 250,
     "metadata": {},
     "output_type": "execute_result"
    }
   ],
   "source": [
    "df1 = telco_churn[(telco_churn.phone_service == 'Yes') & (telco_churn.internet_service_type_id == 1)]\n"
   ]
  },
  {
   "cell_type": "markdown",
   "metadata": {},
   "source": [
    "## Exercise 2\n",
    "Use the employees database.\n",
    "- Is there a relationship between how long an employee has been with the company and their salary?\n",
    "- Is there a relationship between how long an employee has been with the company and the number of titles they have had?"
   ]
  },
  {
   "cell_type": "code",
   "execution_count": 273,
   "metadata": {
    "scrolled": false
   },
   "outputs": [
    {
     "data": {
      "text/html": [
       "<div>\n",
       "<style scoped>\n",
       "    .dataframe tbody tr th:only-of-type {\n",
       "        vertical-align: middle;\n",
       "    }\n",
       "\n",
       "    .dataframe tbody tr th {\n",
       "        vertical-align: top;\n",
       "    }\n",
       "\n",
       "    .dataframe thead th {\n",
       "        text-align: right;\n",
       "    }\n",
       "</style>\n",
       "<table border=\"1\" class=\"dataframe\">\n",
       "  <thead>\n",
       "    <tr style=\"text-align: right;\">\n",
       "      <th></th>\n",
       "      <th>emp_no</th>\n",
       "      <th>salary</th>\n",
       "      <th>start_year</th>\n",
       "      <th>end_year</th>\n",
       "    </tr>\n",
       "  </thead>\n",
       "  <tbody>\n",
       "    <tr>\n",
       "      <td>0</td>\n",
       "      <td>10001</td>\n",
       "      <td>60117</td>\n",
       "      <td>1986</td>\n",
       "      <td>1987</td>\n",
       "    </tr>\n",
       "    <tr>\n",
       "      <td>1</td>\n",
       "      <td>10001</td>\n",
       "      <td>62102</td>\n",
       "      <td>1987</td>\n",
       "      <td>1988</td>\n",
       "    </tr>\n",
       "    <tr>\n",
       "      <td>2</td>\n",
       "      <td>10001</td>\n",
       "      <td>66074</td>\n",
       "      <td>1988</td>\n",
       "      <td>1989</td>\n",
       "    </tr>\n",
       "    <tr>\n",
       "      <td>3</td>\n",
       "      <td>10001</td>\n",
       "      <td>66596</td>\n",
       "      <td>1989</td>\n",
       "      <td>1990</td>\n",
       "    </tr>\n",
       "    <tr>\n",
       "      <td>4</td>\n",
       "      <td>10001</td>\n",
       "      <td>66961</td>\n",
       "      <td>1990</td>\n",
       "      <td>1991</td>\n",
       "    </tr>\n",
       "  </tbody>\n",
       "</table>\n",
       "</div>"
      ],
      "text/plain": [
       "   emp_no  salary  start_year  end_year\n",
       "0   10001   60117        1986      1987\n",
       "1   10001   62102        1987      1988\n",
       "2   10001   66074        1988      1989\n",
       "3   10001   66596        1989      1990\n",
       "4   10001   66961        1990      1991"
      ]
     },
     "execution_count": 273,
     "metadata": {},
     "output_type": "execute_result"
    }
   ],
   "source": [
    "def get_db_url(db_name):\n",
    "    from env import host, user, password\n",
    "    url = f'mysql+pymysql://{user}:{password}@{host}/{db_name}'\n",
    "    return url\n",
    "query = ('''\n",
    "SELECT emp_no, salary, YEAR(from_date) AS start_year, YEAR(to_date) AS end_year\n",
    "FROM salaries\n",
    "LIMIT 1500\n",
    "    ''')\n",
    "salaries = pd.read_sql(query, get_db_url(\"employees\"))\n",
    "salaries.head()"
   ]
  },
  {
   "cell_type": "code",
   "execution_count": 275,
   "metadata": {},
   "outputs": [],
   "source": [
    "#fix the max exit_year to the lateset year other the 9999 from the table\n",
    "max_year = salaries[salaries.end_year != salaries.end_year.max()].end_year.max()\n",
    "salaries.end_year = np.where(salaries.end_year == salaries.end_year.max(), max_year, salaries.end_year)"
   ]
  },
  {
   "cell_type": "code",
   "execution_count": 288,
   "metadata": {
    "scrolled": true
   },
   "outputs": [
    {
     "data": {
      "text/plain": [
       "0"
      ]
     },
     "execution_count": 288,
     "metadata": {},
     "output_type": "execute_result"
    }
   ],
   "source": [
    "# Check if each row represent 1 year\n",
    "((salaries.end_year - salaries.start_year) >1).sum()"
   ]
  },
  {
   "cell_type": "code",
   "execution_count": 294,
   "metadata": {},
   "outputs": [
    {
     "data": {
      "text/html": [
       "<div>\n",
       "<style scoped>\n",
       "    .dataframe tbody tr th:only-of-type {\n",
       "        vertical-align: middle;\n",
       "    }\n",
       "\n",
       "    .dataframe tbody tr th {\n",
       "        vertical-align: top;\n",
       "    }\n",
       "\n",
       "    .dataframe thead th {\n",
       "        text-align: right;\n",
       "    }\n",
       "</style>\n",
       "<table border=\"1\" class=\"dataframe\">\n",
       "  <thead>\n",
       "    <tr style=\"text-align: right;\">\n",
       "      <th></th>\n",
       "      <th>emp_no</th>\n",
       "      <th>max_salary</th>\n",
       "      <th>years</th>\n",
       "    </tr>\n",
       "  </thead>\n",
       "  <tbody>\n",
       "    <tr>\n",
       "      <td>0</td>\n",
       "      <td>10001</td>\n",
       "      <td>88958</td>\n",
       "      <td>17</td>\n",
       "    </tr>\n",
       "    <tr>\n",
       "      <td>1</td>\n",
       "      <td>10002</td>\n",
       "      <td>72527</td>\n",
       "      <td>6</td>\n",
       "    </tr>\n",
       "    <tr>\n",
       "      <td>2</td>\n",
       "      <td>10003</td>\n",
       "      <td>43699</td>\n",
       "      <td>7</td>\n",
       "    </tr>\n",
       "    <tr>\n",
       "      <td>3</td>\n",
       "      <td>10004</td>\n",
       "      <td>74057</td>\n",
       "      <td>16</td>\n",
       "    </tr>\n",
       "    <tr>\n",
       "      <td>4</td>\n",
       "      <td>10005</td>\n",
       "      <td>94692</td>\n",
       "      <td>13</td>\n",
       "    </tr>\n",
       "  </tbody>\n",
       "</table>\n",
       "</div>"
      ],
      "text/plain": [
       "   emp_no  max_salary  years\n",
       "0   10001       88958     17\n",
       "1   10002       72527      6\n",
       "2   10003       43699      7\n",
       "3   10004       74057     16\n",
       "4   10005       94692     13"
      ]
     },
     "execution_count": 294,
     "metadata": {},
     "output_type": "execute_result"
    }
   ],
   "source": [
    "#Groupby the emp_no and make a new df\n",
    "df1 = salaries.groupby('emp_no').salary.agg(['max', 'count']).reset_index()\n",
    "df1 = df1.rename(columns = {'max': 'max_salary', 'count': \"years\"})\n",
    "df1.head()"
   ]
  },
  {
   "cell_type": "code",
   "execution_count": 296,
   "metadata": {},
   "outputs": [
    {
     "name": "stdout",
     "output_type": "stream",
     "text": [
      "r= 0.4719908912812197\n",
      "p= 4.970459997270106e-10\n"
     ]
    }
   ],
   "source": [
    "x = df1.years\n",
    "y = df1.max_salary\n",
    "r, p = stats.pearsonr(x, y)\n",
    "print('r=', r)\n",
    "print('p=', p)"
   ]
  },
  {
   "cell_type": "code",
   "execution_count": 204,
   "metadata": {},
   "outputs": [
    {
     "data": {
      "text/plain": [
       "10101"
      ]
     },
     "execution_count": 204,
     "metadata": {},
     "output_type": "execute_result"
    }
   ],
   "source": [
    "salaries = salaries.reset_index()\n",
    "salaries.emp_no.max()"
   ]
  },
  {
   "cell_type": "code",
   "execution_count": 206,
   "metadata": {
    "scrolled": true
   },
   "outputs": [
    {
     "data": {
      "text/html": [
       "<div>\n",
       "<style scoped>\n",
       "    .dataframe tbody tr th:only-of-type {\n",
       "        vertical-align: middle;\n",
       "    }\n",
       "\n",
       "    .dataframe tbody tr th {\n",
       "        vertical-align: top;\n",
       "    }\n",
       "\n",
       "    .dataframe thead th {\n",
       "        text-align: right;\n",
       "    }\n",
       "</style>\n",
       "<table border=\"1\" class=\"dataframe\">\n",
       "  <thead>\n",
       "    <tr style=\"text-align: right;\">\n",
       "      <th></th>\n",
       "      <th>emp_no</th>\n",
       "      <th>title</th>\n",
       "      <th>from_date</th>\n",
       "      <th>to_date</th>\n",
       "    </tr>\n",
       "  </thead>\n",
       "  <tbody>\n",
       "    <tr>\n",
       "      <td>0</td>\n",
       "      <td>10001</td>\n",
       "      <td>Senior Engineer</td>\n",
       "      <td>1986-06-26</td>\n",
       "      <td>9999-01-01</td>\n",
       "    </tr>\n",
       "    <tr>\n",
       "      <td>1</td>\n",
       "      <td>10002</td>\n",
       "      <td>Staff</td>\n",
       "      <td>1996-08-03</td>\n",
       "      <td>9999-01-01</td>\n",
       "    </tr>\n",
       "    <tr>\n",
       "      <td>2</td>\n",
       "      <td>10003</td>\n",
       "      <td>Senior Engineer</td>\n",
       "      <td>1995-12-03</td>\n",
       "      <td>9999-01-01</td>\n",
       "    </tr>\n",
       "    <tr>\n",
       "      <td>3</td>\n",
       "      <td>10004</td>\n",
       "      <td>Engineer</td>\n",
       "      <td>1986-12-01</td>\n",
       "      <td>1995-12-01</td>\n",
       "    </tr>\n",
       "    <tr>\n",
       "      <td>4</td>\n",
       "      <td>10004</td>\n",
       "      <td>Senior Engineer</td>\n",
       "      <td>1995-12-01</td>\n",
       "      <td>9999-01-01</td>\n",
       "    </tr>\n",
       "  </tbody>\n",
       "</table>\n",
       "</div>"
      ],
      "text/plain": [
       "   emp_no            title   from_date     to_date\n",
       "0   10001  Senior Engineer  1986-06-26  9999-01-01\n",
       "1   10002            Staff  1996-08-03  9999-01-01\n",
       "2   10003  Senior Engineer  1995-12-03  9999-01-01\n",
       "3   10004         Engineer  1986-12-01  1995-12-01\n",
       "4   10004  Senior Engineer  1995-12-01  9999-01-01"
      ]
     },
     "execution_count": 206,
     "metadata": {},
     "output_type": "execute_result"
    }
   ],
   "source": [
    "query = '''SELECT *\n",
    "FROM titles \n",
    "WHERE emp_no <= 10101\n",
    "'''\n",
    "titles = pd.read_sql(query, get_db_url(\"employees\"))\n",
    "titles.head()"
   ]
  },
  {
   "cell_type": "code",
   "execution_count": 211,
   "metadata": {},
   "outputs": [],
   "source": [
    "title_counts = titles.groupby('emp_no').title.count()\n",
    "df = pd.merge(salaries, title_counts, left_on='emp_no', right_on='emp_no', how='left')"
   ]
  },
  {
   "cell_type": "code",
   "execution_count": 215,
   "metadata": {},
   "outputs": [],
   "source": [
    "employee = df[['emp_no', 'years', 'title']]"
   ]
  },
  {
   "cell_type": "code",
   "execution_count": 216,
   "metadata": {},
   "outputs": [
    {
     "name": "stdout",
     "output_type": "stream",
     "text": [
      "r= 0.5216634352980877\n",
      "p= 2.22014735345215e-08\n"
     ]
    }
   ],
   "source": [
    "x = employee.years\n",
    "y = employee.title\n",
    "r, p = stats.pearsonr(x, y)\n",
    "print('r=', r)\n",
    "print('p=', p)"
   ]
  },
  {
   "cell_type": "markdown",
   "metadata": {},
   "source": [
    "## Exercise 3\n",
    "Use the sleepstudy data. Is there a relationship between days and reaction time?"
   ]
  },
  {
   "cell_type": "code",
   "execution_count": 217,
   "metadata": {},
   "outputs": [],
   "source": [
    "from pydataset import data"
   ]
  },
  {
   "cell_type": "code",
   "execution_count": 226,
   "metadata": {},
   "outputs": [
    {
     "data": {
      "text/html": [
       "<div>\n",
       "<style scoped>\n",
       "    .dataframe tbody tr th:only-of-type {\n",
       "        vertical-align: middle;\n",
       "    }\n",
       "\n",
       "    .dataframe tbody tr th {\n",
       "        vertical-align: top;\n",
       "    }\n",
       "\n",
       "    .dataframe thead th {\n",
       "        text-align: right;\n",
       "    }\n",
       "</style>\n",
       "<table border=\"1\" class=\"dataframe\">\n",
       "  <thead>\n",
       "    <tr style=\"text-align: right;\">\n",
       "      <th></th>\n",
       "      <th>Reaction</th>\n",
       "      <th>Days</th>\n",
       "      <th>Subject</th>\n",
       "    </tr>\n",
       "  </thead>\n",
       "  <tbody>\n",
       "    <tr>\n",
       "      <td>1</td>\n",
       "      <td>249.5600</td>\n",
       "      <td>0</td>\n",
       "      <td>308</td>\n",
       "    </tr>\n",
       "    <tr>\n",
       "      <td>2</td>\n",
       "      <td>258.7047</td>\n",
       "      <td>1</td>\n",
       "      <td>308</td>\n",
       "    </tr>\n",
       "    <tr>\n",
       "      <td>3</td>\n",
       "      <td>250.8006</td>\n",
       "      <td>2</td>\n",
       "      <td>308</td>\n",
       "    </tr>\n",
       "    <tr>\n",
       "      <td>4</td>\n",
       "      <td>321.4398</td>\n",
       "      <td>3</td>\n",
       "      <td>308</td>\n",
       "    </tr>\n",
       "    <tr>\n",
       "      <td>5</td>\n",
       "      <td>356.8519</td>\n",
       "      <td>4</td>\n",
       "      <td>308</td>\n",
       "    </tr>\n",
       "  </tbody>\n",
       "</table>\n",
       "</div>"
      ],
      "text/plain": [
       "   Reaction  Days  Subject\n",
       "1  249.5600     0      308\n",
       "2  258.7047     1      308\n",
       "3  250.8006     2      308\n",
       "4  321.4398     3      308\n",
       "5  356.8519     4      308"
      ]
     },
     "execution_count": 226,
     "metadata": {},
     "output_type": "execute_result"
    }
   ],
   "source": [
    "sleep_study = data(\"sleepstudy\")\n",
    "sleep_study.head()"
   ]
  },
  {
   "cell_type": "code",
   "execution_count": 232,
   "metadata": {},
   "outputs": [
    {
     "data": {
      "text/html": [
       "<div>\n",
       "<style scoped>\n",
       "    .dataframe tbody tr th:only-of-type {\n",
       "        vertical-align: middle;\n",
       "    }\n",
       "\n",
       "    .dataframe tbody tr th {\n",
       "        vertical-align: top;\n",
       "    }\n",
       "\n",
       "    .dataframe thead th {\n",
       "        text-align: right;\n",
       "    }\n",
       "</style>\n",
       "<table border=\"1\" class=\"dataframe\">\n",
       "  <thead>\n",
       "    <tr style=\"text-align: right;\">\n",
       "      <th></th>\n",
       "      <th>Days</th>\n",
       "      <th>Reaction</th>\n",
       "    </tr>\n",
       "  </thead>\n",
       "  <tbody>\n",
       "    <tr>\n",
       "      <td>0</td>\n",
       "      <td>0</td>\n",
       "      <td>256.651806</td>\n",
       "    </tr>\n",
       "    <tr>\n",
       "      <td>1</td>\n",
       "      <td>1</td>\n",
       "      <td>264.495756</td>\n",
       "    </tr>\n",
       "    <tr>\n",
       "      <td>2</td>\n",
       "      <td>2</td>\n",
       "      <td>265.361900</td>\n",
       "    </tr>\n",
       "    <tr>\n",
       "      <td>3</td>\n",
       "      <td>3</td>\n",
       "      <td>282.992011</td>\n",
       "    </tr>\n",
       "    <tr>\n",
       "      <td>4</td>\n",
       "      <td>4</td>\n",
       "      <td>288.649422</td>\n",
       "    </tr>\n",
       "    <tr>\n",
       "      <td>5</td>\n",
       "      <td>5</td>\n",
       "      <td>308.518456</td>\n",
       "    </tr>\n",
       "    <tr>\n",
       "      <td>6</td>\n",
       "      <td>6</td>\n",
       "      <td>312.178256</td>\n",
       "    </tr>\n",
       "    <tr>\n",
       "      <td>7</td>\n",
       "      <td>7</td>\n",
       "      <td>318.750583</td>\n",
       "    </tr>\n",
       "    <tr>\n",
       "      <td>8</td>\n",
       "      <td>8</td>\n",
       "      <td>336.629506</td>\n",
       "    </tr>\n",
       "    <tr>\n",
       "      <td>9</td>\n",
       "      <td>9</td>\n",
       "      <td>350.851222</td>\n",
       "    </tr>\n",
       "  </tbody>\n",
       "</table>\n",
       "</div>"
      ],
      "text/plain": [
       "   Days    Reaction\n",
       "0     0  256.651806\n",
       "1     1  264.495756\n",
       "2     2  265.361900\n",
       "3     3  282.992011\n",
       "4     4  288.649422\n",
       "5     5  308.518456\n",
       "6     6  312.178256\n",
       "7     7  318.750583\n",
       "8     8  336.629506\n",
       "9     9  350.851222"
      ]
     },
     "execution_count": 232,
     "metadata": {},
     "output_type": "execute_result"
    }
   ],
   "source": [
    "df = sleep_study.groupby('Days').Reaction.mean()\n",
    "df = df.reset_index()\n",
    "df"
   ]
  },
  {
   "cell_type": "code",
   "execution_count": 233,
   "metadata": {},
   "outputs": [
    {
     "name": "stdout",
     "output_type": "stream",
     "text": [
      "r= 0.9893180251905147\n",
      "p= 5.623495872574426e-08\n"
     ]
    }
   ],
   "source": [
    "x = df.Days\n",
    "y = df.Reaction\n",
    "r, p = stats.pearsonr(x, y)\n",
    "print('r=', r)\n",
    "print('p=', p)"
   ]
  },
  {
   "cell_type": "code",
   "execution_count": null,
   "metadata": {},
   "outputs": [],
   "source": []
  }
 ],
 "metadata": {
  "kernelspec": {
   "display_name": "Python 3",
   "language": "python",
   "name": "python3"
  },
  "language_info": {
   "codemirror_mode": {
    "name": "ipython",
    "version": 3
   },
   "file_extension": ".py",
   "mimetype": "text/x-python",
   "name": "python",
   "nbconvert_exporter": "python",
   "pygments_lexer": "ipython3",
   "version": "3.7.4"
  }
 },
 "nbformat": 4,
 "nbformat_minor": 2
}
