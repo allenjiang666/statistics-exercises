{
 "cells": [
  {
   "cell_type": "code",
   "execution_count": 1,
   "metadata": {},
   "outputs": [],
   "source": [
    "import numpy as np\n",
    "import pandas as pd\n",
    "from scipy import stats"
   ]
  },
  {
   "cell_type": "markdown",
   "metadata": {},
   "source": [
    "**1. The clerks at the Walgreens on Houston Street have to tell every customer to take the survey that's printed on their receipt. Walgreens knows that only 10% of customers complete the survey. If Walgreens has 618 customers today, what is the likelihood that 70 or more people take the survey? Give your answer to 3 decimal places.**"
   ]
  },
  {
   "cell_type": "code",
   "execution_count": 12,
   "metadata": {
    "scrolled": true
   },
   "outputs": [
    {
     "data": {
      "text/plain": [
       "(0.15107528710205037, 0.15276)"
      ]
     },
     "execution_count": 12,
     "metadata": {},
     "output_type": "execute_result"
    }
   ],
   "source": [
    "theoritical = stats.binom(618, .1).sf(70) + stats.binom(618, .1).pmf(70)\n",
    "simulation = (stats.binom(618, .1).rvs(100_000) >= 70).mean()\n",
    "theoritical, simulation"
   ]
  },
  {
   "cell_type": "markdown",
   "metadata": {},
   "source": [
    "**2. What is the difference between a continuous and discrete variable? Give an example of each.**"
   ]
  },
  {
   "cell_type": "markdown",
   "metadata": {},
   "source": [
    "- Time is a independent variable, it can be divided into infinte small segment and its scale could reach to the infinite\n",
    "- Category is a discrete variable, it can't be divided smaller than intergers and it has limited scale"
   ]
  },
  {
   "cell_type": "markdown",
   "metadata": {},
   "source": [
    "**3. When working with probability distributions, which is the function that gives us the probability of a specific outcome of a discrete random variable? (Write out the full name of the function, not the abbreviation)**"
   ]
  },
  {
   "cell_type": "markdown",
   "metadata": {},
   "source": [
    "- The probablity mass function"
   ]
  },
  {
   "cell_type": "markdown",
   "metadata": {},
   "source": [
    "**4. When working with probability distributions, which is the function that gives us a value at which a given percentage of values are higher than that value?**"
   ]
  },
  {
   "cell_type": "markdown",
   "metadata": {},
   "source": [
    "- Inversive survival function"
   ]
  },
  {
   "cell_type": "markdown",
   "metadata": {},
   "source": [
    "**5. Give an example of a real-world event or process that could be modeled by each of the following distributions: Uniform, Poisson, Binomial, and Normal**"
   ]
  },
  {
   "cell_type": "markdown",
   "metadata": {},
   "source": [
    "- Uniform: drop a coin and pick a side \n",
    "-  Possion: the number of tourist visit travis park on a day\n",
    "- Binomial: there are 20 students in web development cohort, only 1 percent of them drink tea, the likely hood of people drinking teach among 60 web dev students\n",
    "- Normal: the hgihts of all the boys in a school"
   ]
  },
  {
   "cell_type": "markdown",
   "metadata": {},
   "source": [
    "**6. Which distribution best represents choosing a data science student at random to give a presentation?**"
   ]
  },
  {
   "cell_type": "markdown",
   "metadata": {},
   "source": [
    "- Normal distribution\n"
   ]
  },
  {
   "cell_type": "markdown",
   "metadata": {},
   "source": [
    "**7. Which distribution best represents the number of pots of coffee that will be brewed on the 6th floor at Codeup over one day if we know how many are brewed on average? (Assume we have an unlimited supply of coffee)**"
   ]
  },
  {
   "cell_type": "markdown",
   "metadata": {},
   "source": [
    "- Poisson Distribution\n"
   ]
  },
  {
   "cell_type": "markdown",
   "metadata": {},
   "source": [
    "**8. Which distribution best represents the number of students in a class of 20 that will arrive on time to the classroom after a break if we know that there is a 90% chance a given student will arrive on time?**"
   ]
  },
  {
   "cell_type": "markdown",
   "metadata": {},
   "source": [
    "- Binomial Distribution"
   ]
  },
  {
   "cell_type": "markdown",
   "metadata": {},
   "source": [
    "**9. What is the difference between a null and alternative hypothesis?**"
   ]
  },
  {
   "cell_type": "markdown",
   "metadata": {},
   "source": [
    "- Null hypothesis: there is no change or no difference between two variables \n",
    "- Alternative hypothesis: there is a change or difference between two variables( could be less than or greater than)"
   ]
  },
  {
   "cell_type": "markdown",
   "metadata": {},
   "source": [
    "**10. If we have a p-value of .34, what action do we take? That is, what is the next step in the hypothesis testing process**"
   ]
  },
  {
   "cell_type": "markdown",
   "metadata": {},
   "source": [
    "- becuse p > alpha(.01), we fail to reject null hypothesis"
   ]
  },
  {
   "cell_type": "markdown",
   "metadata": {},
   "source": [
    "**11. If we have a p-value of .003, what action do we take? That is, what is the next step in the hypothesis testing process?**"
   ]
  },
  {
   "cell_type": "markdown",
   "metadata": {},
   "source": [
    "- becuse p < alpha(.01), we reject null hypothesis"
   ]
  },
  {
   "cell_type": "markdown",
   "metadata": {},
   "source": [
    "**12. Codeup wants to know if being taught in the front classroom (as opposed to any other classroom) has an impact on a students' grades. Is this a situation where we could use a t-test? If so, write our the null and alternative hypotheses.**"
   ]
  },
  {
   "cell_type": "markdown",
   "metadata": {},
   "source": [
    "- Null hypothesis: there is no difference in students' grades between students sit in the front and rest of the class\n",
    "- Alternative hypthesis: the students sit in the front have higher grades than the rest of the class."
   ]
  },
  {
   "cell_type": "markdown",
   "metadata": {},
   "source": [
    "**13. Based on the previous question, which term best describes the scenario in which we conclude that being in the front classroom does make a difference in grade, and it really does?**"
   ]
  },
  {
   "cell_type": "markdown",
   "metadata": {},
   "source": [
    "- Base on P < alpha, We could reject null hypothesis, we can conclude there is a difference  in grades. "
   ]
  },
  {
   "cell_type": "markdown",
   "metadata": {},
   "source": [
    "**14. Based on the previous question, which term best describes the scenario in which we conclude that being in the front classroom does not make a difference in grade, but it really does?**"
   ]
  },
  {
   "cell_type": "markdown",
   "metadata": {},
   "source": [
    "- Base on P > alpha, We failed to reject null hypothesis, we can conclude there is no difference  in grades. "
   ]
  },
  {
   "cell_type": "markdown",
   "metadata": {},
   "source": [
    "**15. Assume that the time it takes to order and eat the burger special at the Esquire is normally distributed with a mean of 40 minutes and a standard deviation of 15 minutes. If you include 5 minutes of travel time, what is the likelihood that you can go eat at The Esquire during your lunch hour and not be late back to class?**"
   ]
  },
  {
   "cell_type": "code",
   "execution_count": 4,
   "metadata": {},
   "outputs": [
    {
     "data": {
      "text/plain": [
       "(0.8472, 0.8413447460685429)"
      ]
     },
     "execution_count": 4,
     "metadata": {},
     "output_type": "execute_result"
    }
   ],
   "source": [
    "simulation = (stats.norm(40, 15).rvs(10_000) < 55).mean()\n",
    "theoritical = stats.norm(40, 15).cdf(55)\n",
    "simulation, theoritical"
   ]
  },
  {
   "cell_type": "code",
   "execution_count": null,
   "metadata": {},
   "outputs": [],
   "source": []
  }
 ],
 "metadata": {
  "kernelspec": {
   "display_name": "Python 3",
   "language": "python",
   "name": "python3"
  },
  "language_info": {
   "codemirror_mode": {
    "name": "ipython",
    "version": 3
   },
   "file_extension": ".py",
   "mimetype": "text/x-python",
   "name": "python",
   "nbconvert_exporter": "python",
   "pygments_lexer": "ipython3",
   "version": "3.7.4"
  }
 },
 "nbformat": 4,
 "nbformat_minor": 2
}
