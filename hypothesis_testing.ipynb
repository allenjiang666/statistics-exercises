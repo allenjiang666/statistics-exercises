{
 "cells": [
  {
   "cell_type": "markdown",
   "metadata": {},
   "source": [
    "# Hypothesis Testing Exercises\n",
    "For each of the following questions, formulate a null and alternative hypothesis (be as specific as you can be), then give an example of what a true positive, true negative, type I and type II errors would look like. Note that some of the questions are intentionally phrased in a vague way. It is your job to reword these as more precise questions that could be tested.\n"
   ]
  },
  {
   "cell_type": "markdown",
   "metadata": {},
   "source": [
    "## Exercise 1\n",
    "> **Has the network latency gone up since we switched internet service providers?**"
   ]
  },
  {
   "cell_type": "markdown",
   "metadata": {},
   "source": [
    "**Data**: Average latency before and after we switch\n",
    "- $H_0$: There is no difference in latency between both providers\n",
    "- $H_a$: The latency gets shorter after we switch"
   ]
  },
  {
   "cell_type": "markdown",
   "metadata": {},
   "source": [
    "- **True Positive**\n",
    "    - small p-value --> the probability of $H_0$ is true is low. \n",
    "    - reject $H_0$\n",
    "    - before switching the average latency is 230ms\n",
    "    - after switching the average latency is 80ms\n",
    "\n",
    "- **False Positive**\n",
    "    - small p-value\n",
    "    - reject $H-0$\n",
    "    - before switching the average latency is 230ms\n",
    "    - after switching the average latency is 80ms\n",
    "    - We tested latency at different time period, one is at rush hour, the other one is tested at midnight\n",
    "- **True Negative**\n",
    "    - higher p -value\n",
    "    - fail to reject $H_0$\n",
    "    - before switching the average latency is 230ms\n",
    "    - after switching the average latency is 200ms\n",
    "- **False Negative**\n",
    "    - higher p -value\n",
    "    - fail to reject $H_0$\n",
    "    - before switching the average latency is 230ms\n",
    "    - after switching the average latency is 200ms\n",
    "    - when testing there are different number of other applications running at the same time"
   ]
  },
  {
   "cell_type": "markdown",
   "metadata": {},
   "source": [
    "## Exercise 2\n",
    "> **Is the website redesign any good?**"
   ]
  },
  {
   "cell_type": "markdown",
   "metadata": {},
   "source": [
    "**Data**: traffic of the website\n",
    "- $H_0$: there is no difference after the website was redesigned\n",
    "- $H_a$: there is a  increase in traffic after the website was redesigned "
   ]
  },
  {
   "cell_type": "markdown",
   "metadata": {},
   "source": [
    "- **True Positive**\n",
    "    - low p_ value\n",
    "    - reject $H_0$\n",
    "    - before redesign, the traffic was 4000 visitors per day\n",
    "    - after redesign, the traffic is 6000 visitors per day\n",
    "- **False Positive**\n",
    "    - low p_ value\n",
    "    - reject $H_0$\n",
    "    - before redesign, the traffic was 4000 visitors per day\n",
    "    - after redesign, the traffic is 6000 visitors per day\n",
    "    - they somehow increase the quality of the context in the website\n",
    "- **True Negative**\n",
    "    - high p-value\n",
    "    - fail to reject $H_0$\n",
    "    - before redesign, the traffic was 4000 visitors per day\n",
    "    - after redesign, the traffic is 4100 visitors per day\n",
    "- **False Negative**\n",
    "    - high p-value\n",
    "    - fail to reject $H_0$\n",
    "    - before redesign, the traffic was 4000 visitors per day\n",
    "    - after redesign, the traffic is 4100 visitors per day\n",
    "    - they add more ads in the website."
   ]
  },
  {
   "cell_type": "markdown",
   "metadata": {},
   "source": [
    "## Exercise 3\n",
    "> Is our television ad driving more sales?"
   ]
  },
  {
   "cell_type": "markdown",
   "metadata": {},
   "source": [
    "**data**: number of sales\n",
    "- $H_0$: the number of sales remain the same after the ad is the air\n",
    "- $H_a$: the number of sales increase after the ad is the air"
   ]
  },
  {
   "cell_type": "markdown",
   "metadata": {},
   "source": [
    "- **True Positive**\n",
    "    - low p_ value\n",
    "    - reject $H_0$\n",
    "    - before the ad is in the air, the sales was 300 per month\n",
    "    - after the ad is in the air, the sales is 500 per month\n",
    "- **False Positive**\n",
    "    - low p_ value\n",
    "    - reject $H_0$\n",
    "    - before the ad is in the air, the sales was 300 per month\n",
    "    - after the ad is in the air, the sales is 500 per month\n",
    "    - the manfacture update some feature of the data\n",
    "- **True Negative**\n",
    "    - high p-value\n",
    "    - fail to reject $H_0$\n",
    "    - before the ad is in the air, the sales was 300 per month\n",
    "    - after the ad is in the air, the sales is 310 per month\n",
    "- **False Negative**\n",
    "    - high p-value\n",
    "    - fail to reject $H_0$\n",
    "    - before the ad is in the air, the sales was 300 per month\n",
    "    - after the ad is in the air, the sales is 310 per month\n",
    "    - some salse person quit their jobs."
   ]
  },
  {
   "cell_type": "markdown",
   "metadata": {},
   "source": [
    "## Mini Exercise 1 \n",
    "> Are the average grades in web development vs data science classes different? "
   ]
  },
  {
   "cell_type": "markdown",
   "metadata": {},
   "source": [
    "**Data**: average grades\n",
    "- $H_0$: there is no difference between two classes\n",
    "- $H_a$: data science class has higher average grades than web development class."
   ]
  },
  {
   "cell_type": "markdown",
   "metadata": {},
   "source": [
    "- **True Positive**\n",
    "    - low p_ value\n",
    "    - reject $H_0$\n",
    "    - the average grade for data science is 90\n",
    "    - the average grade for data science is 83\n",
    "- **False Positive**\n",
    "    - low p_ value\n",
    "    - reject $H_0$\n",
    "    - the average grade for data science is 90\n",
    "    - the average grade for data science is 83\n",
    "    - the there are more students in data science has a college degree\n",
    "- **True Negative**\n",
    "    - high p-value\n",
    "    - fail to reject $H_0$\n",
    "    - the average grade for data science is 95\n",
    "    - the average grade for data science is 83\n",
    "- **False Negative**\n",
    "    - high p-value\n",
    "    - fail to reject $H_0$\n",
    "    - the average grade for data science is 95\n",
    "    - the average grade for data science is 83\n",
    "    - some of the students from data science skipped class for several times"
   ]
  },
  {
   "cell_type": "markdown",
   "metadata": {},
   "source": [
    "## Mini Exercise 2\n",
    "> Is there a relationship between how early a student shows up to class and their grade? "
   ]
  },
  {
   "cell_type": "markdown",
   "metadata": {},
   "source": [
    "**Data**: average grades and time they showup before class begin\n",
    "- $H_0$: there is no difference between students showup early and student show up late\n",
    "- $H_a$: students showup earler has higher grades than students showup late"
   ]
  },
  {
   "cell_type": "markdown",
   "metadata": {},
   "source": [
    "- **True Positive**\n",
    "    - low p_ value\n",
    "    - reject $H_0$\n",
    "    - the average grade for student showup 15 mins earlier is 90\n",
    "    - the average grade for student showup not 15 mins earlier is 82\n",
    "- **False Positive**\n",
    "    - low p_ value\n",
    "    - reject $H_0$\n",
    "    - the average grade for student showup 15 mins earlier is 90\n",
    "    - the average grade for student showup not 15 mins earlier is 82\n",
    "    - some students showup early study extra hours after school.\n",
    "- **True Negative**\n",
    "    - high p-value\n",
    "    - fail to reject $H_0$\n",
    "    - the average grade for student showup 15 mins earlier is 90\n",
    "    - the average grade for student showup not 15 mins earlier is 89\n",
    "- **False Negative**\n",
    "    - high p-value\n",
    "    - fail to reject $H_0$\n",
    "    - the average grade for student showup 15 mins earlier is 90\n",
    "    - the average grade for student showup not 15 mins earlier is 89\n",
    "    - some students showup late study extra hours after school"
   ]
  },
  {
   "cell_type": "markdown",
   "metadata": {},
   "source": [
    "## Mini Exercise 3\n",
    "> Are web dev or data science students more likely to be coffee drinkers? "
   ]
  },
  {
   "cell_type": "markdown",
   "metadata": {},
   "source": [
    "**Data**: average coffee comsumption between two classes\n",
    "- $H_0$: there is no difference between two classes\n",
    "- $H_a$: data science class drink more coffee than web development class."
   ]
  },
  {
   "cell_type": "markdown",
   "metadata": {},
   "source": [
    "- **True Positive**\n",
    "    - low p_ value\n",
    "    - reject $H_0$\n",
    "    - the average coffee consumption for data science is 2 cups per person\n",
    "    - the average coffee consumption for wed development is 4 cups per person\n",
    "- **False Positive**\n",
    "    - low p_ value\n",
    "    - reject $H_0$\n",
    "    - the average coffee consumption for data science is 2 cups per person\n",
    "    - the average coffee consumption for wed development is 4 cups per person\n",
    "    - the web develpment class is closer to the coffee machine\n",
    "- **True Negative**\n",
    "    - high p-value\n",
    "    - fail to reject $H_0$\n",
    "    - the average coffee consumption for data science is 3 cups per person\n",
    "    - the average coffee consumption for wed development is 3.5 cups per person\n",
    "- **False Negative**\n",
    "    - high p-value\n",
    "    - fail to reject $H_0$\n",
    "    - the average coffee consumption for data science is 3 cups per person\n",
    "    - the average coffee consumption for wed development is 3.5 cups per person\n",
    "    - some student of the web develpment buy coffee from the barkery downstairs"
   ]
  },
  {
   "cell_type": "code",
   "execution_count": null,
   "metadata": {},
   "outputs": [],
   "source": []
  }
 ],
 "metadata": {
  "kernelspec": {
   "display_name": "Python 3",
   "language": "python",
   "name": "python3"
  },
  "language_info": {
   "codemirror_mode": {
    "name": "ipython",
    "version": 3
   },
   "file_extension": ".py",
   "mimetype": "text/x-python",
   "name": "python",
   "nbconvert_exporter": "python",
   "pygments_lexer": "ipython3",
   "version": "3.7.4"
  }
 },
 "nbformat": 4,
 "nbformat_minor": 2
}
